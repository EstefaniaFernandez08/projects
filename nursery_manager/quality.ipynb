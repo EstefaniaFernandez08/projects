{
 "cells": [
  {
   "cell_type": "markdown",
   "id": "140d8990",
   "metadata": {},
   "source": [
    "___\n",
    "## 1. Modify the table schema with sensitive data "
   ]
  },
  {
   "cell_type": "code",
   "execution_count": null,
   "id": "5c68725e",
   "metadata": {},
   "outputs": [],
   "source": [
    "import sqlite3\n",
    "\n",
    "# Create the database connection\n",
    "conn = sqlite3.connect('nursery.db')\n",
    "cursor = conn.cursor()\n",
    "\n",
    "cursor.execute('''\n",
    "-- 1. Create a backup first\n",
    "CREATE TABLE OBSERVACION_LOTE_BACKUP AS SELECT * FROM OBSERVACION_LOTE;\n",
    "\n",
    "-- 2. Apply changes for quality \n",
    "UPDATE OBSERVACION_LOTE_BACKUP \n",
    "SET ETAPA_CRECIMIENTO = 'BOLSA_PEQUEÑA'\n",
    "WHERE ETAPA_CRECIMIENTO = 'CRECIMIENTO_VEGETATIVO' \n",
    "''')\n",
    "\n",
    "# Execute the transaction\n",
    "conn.commit()\n",
    "conn.close()\n"
   ]
  }
 ],
 "metadata": {
  "kernelspec": {
   "display_name": "Creates",
   "language": "python",
   "name": "python3"
  },
  "language_info": {
   "name": "python",
   "version": "3.13.0"
  }
 },
 "nbformat": 4,
 "nbformat_minor": 5
}
