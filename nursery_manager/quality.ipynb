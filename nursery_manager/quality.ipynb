{
 "cells": [
  {
   "cell_type": "markdown",
   "id": "140d8990",
   "metadata": {},
   "source": [
    "___\n",
    "## Modify a table with sensitive data "
   ]
  },
  {
   "cell_type": "markdown",
   "id": "7f61758e",
   "metadata": {},
   "source": [
    "Step 1: Create a backup table"
   ]
  },
  {
   "cell_type": "code",
   "execution_count": 5,
   "id": "5c68725e",
   "metadata": {},
   "outputs": [
    {
     "name": "stdout",
     "output_type": "stream",
     "text": [
      "☑️ Backup successful: OBSERVACION_LOTE_BACKUP_10_31_25\n",
      "📊 Records backed up: 176\n"
     ]
    }
   ],
   "source": [
    "import sqlite3\n",
    "from datetime import datetime\n",
    "\n",
    "def create_table_backup(table_name, backup_sufix=None):\n",
    "    \"\"\" \n",
    "    This function creates timestamped backup of any table for safety\n",
    "\n",
    "    parameters: \n",
    "    table_name(str): Name of the table to backup\n",
    "    backup_sufix(str): Custom suffix for backup table name \n",
    "    \"\"\"\n",
    "    conn = None\n",
    "    # The main operation that might fail\n",
    "    try:\n",
    "        conn = sqlite3.connect('nursery.db')\n",
    "        cursor = conn.cursor()\n",
    "\n",
    "        # Generate the backup table with timestamp\n",
    "        if backup_sufix:\n",
    "            backup_table = f\"{table_name}_BACKUP_{backup_sufix}\"\n",
    "        else:\n",
    "            timestamp = datetime.now().strftime(\"%m_%d_%y\")\n",
    "            backup_table = f\"{table_name}_BACKUP_{timestamp}\"\n",
    "        \n",
    "        # Execute backup\n",
    "        cursor.execute(f\"\"\"\n",
    "        CREATE TABLE {backup_table} AS \n",
    "        SELECT * FROM {table_name}\n",
    "        \"\"\")\n",
    "\n",
    "        # Verify backup was created\n",
    "        cursor.execute(f\"SELECT COUNT(*) FROM {backup_table}\")\n",
    "        record_count = cursor.fetchone()[0]\n",
    "\n",
    "        conn.commit()\n",
    "\n",
    "        print(f\"☑️ Backup successful: {backup_table}\")\n",
    "        print(f\"📊 Records backed up: {record_count}\")\n",
    "\n",
    "        return backup_table\n",
    "\n",
    "    # Handle database errors specifically\n",
    "    except sqlite3.Error as e:  \n",
    "        print (f\"🚫 Backup failed for {table_name}: {e}\")\n",
    "        if conn:\n",
    "            conn.rollback()\n",
    "        return None\n",
    "    \n",
    "    # Ensure connection always closes even if error occurs\n",
    "    finally:\n",
    "        if conn:\n",
    "            conn.close()\n",
    "\n",
    "\n",
    "# --- PRACTICE USAGE ---\n",
    "if __name__ == \"__main__\":\n",
    "    # basic usage\n",
    "    backup_name = create_table_backup(\"OBSERVACION_LOTE\")\n"
   ]
  }
 ],
 "metadata": {
  "kernelspec": {
   "display_name": "Creates",
   "language": "python",
   "name": "python3"
  },
  "language_info": {
   "codemirror_mode": {
    "name": "ipython",
    "version": 3
   },
   "file_extension": ".py",
   "mimetype": "text/x-python",
   "name": "python",
   "nbconvert_exporter": "python",
   "pygments_lexer": "ipython3",
   "version": "3.13.0"
  }
 },
 "nbformat": 4,
 "nbformat_minor": 5
}
