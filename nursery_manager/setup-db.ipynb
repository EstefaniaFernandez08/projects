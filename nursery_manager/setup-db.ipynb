{
 "cells": [
  {
   "cell_type": "markdown",
   "id": "bc489702",
   "metadata": {},
   "source": [
    "\n",
    "___________\n",
    "### 0. Delete database"
   ]
  },
  {
   "cell_type": "code",
   "execution_count": 10,
   "id": "c8ad0afe",
   "metadata": {},
   "outputs": [
    {
     "name": "stdout",
     "output_type": "stream",
     "text": [
      "Database file removed completely!\n"
     ]
    }
   ],
   "source": [
    "import os\n",
    "import sqlite3\n",
    "\n",
    "# Close any existing connections\n",
    "conn = sqlite3.connect('nursery.db')\n",
    "conn.close()\n",
    "\n",
    "# Delete the file completely\n",
    "if os.path.exists('nursery.db'):\n",
    "    os.remove('nursery.db')\n",
    "    print(\"Database file removed completely!\")\n",
    "else:\n",
    "    print (\"Database file did not exist.\")"
   ]
  },
  {
   "cell_type": "code",
   "execution_count": null,
   "id": "14bcf4f1",
   "metadata": {},
   "outputs": [
    {
     "name": "stdout",
     "output_type": "stream",
     "text": [
      "Table dropped successfully\n"
     ]
    }
   ],
   "source": [
    "import sqlite3\n",
    "\n",
    "# Connect to your database\n",
    "conn = sqlite3.connect('nursery.db')\n",
    "cursor = conn.cursor()\n",
    "\n",
    "# To DROP specific tables\n",
    "try:\n",
    "    cursor.execute('''\n",
    "        DROP TABLE IF EXISTS SPECIES\n",
    "    ''')\n",
    "    conn.commit()  # Important: Save the changes\n",
    "    print(\"Table dropped successfully\")\n",
    "    \n",
    "except sqlite3.Error as e:\n",
    "    print(f\"Error dropping table: {e}\")\n",
    "    \n",
    "finally:\n",
    "    conn.close()  # Always close the connection"
   ]
  },
  {
   "cell_type": "markdown",
   "id": "927e64c9",
   "metadata": {},
   "source": [
    "______________________\n",
    "### 1. Database creation and table architecture"
   ]
  },
  {
   "cell_type": "code",
   "execution_count": 11,
   "id": "8b1df77c",
   "metadata": {},
   "outputs": [
    {
     "name": "stdout",
     "output_type": "stream",
     "text": [
      "Database schema created successfully!\n"
     ]
    }
   ],
   "source": [
    "import sqlite3\n",
    "\n",
    "# Connect to database\n",
    "conn = sqlite3.connect('nursery.db')\n",
    "cursor = conn.cursor()\n",
    "\n",
    "try:\n",
    "    # 1. SPECIES table for static, descriptive attributes of a species\n",
    "    cursor.execute('''\n",
    "        CREATE TABLE IF NOT EXISTS SPECIES (\n",
    "            ID INTEGER PRIMARY KEY AUTOINCREMENT,\n",
    "            SCIENTIFIC_NAME TEXT NOT NULL UNIQUE, -- The botanical name\n",
    "            COMMON_NAME TEXT, -- The common name\n",
    "            FAMILY TEXT, \n",
    "            GERMINATION_DAYS_AVG INTEGER,\n",
    "            GROWTH_RATE TEXT CHECK(GROWTH_RATE IN ('Slow', 'Moderate', 'Fast')),\n",
    "            WATER_NEEDS TEXT CHECK(WATER_NEEDS IN ('Low', 'Medium', 'High')),\n",
    "            LIGHT_REQUIREMENTS TEXT CHECK(LIGHT_REQUIREMENTS IN ('Full Sun', 'Partial Shade', 'Shade')),\n",
    "            NOTES TEXT\n",
    "        )            \n",
    "    ''')\n",
    "\n",
    "    # 2. BATCH Table for unmutable and distinct batch count \n",
    "    cursor.execute('''\n",
    "        CREATE TABLE IF NOT EXISTS BATCH (\n",
    "            ID INTEGER PRIMARY KEY AUTOINCREMENT,\n",
    "            SPECIES_ID INTEGER NOT NULL,\n",
    "            BATCH_CODE TEXT NOT NULL UNIQUE,\n",
    "            START_DATE DATE NOT NULL,\n",
    "            MOON_PHASE TEXT CHECK (MOON_PHASE IN ('New', 'First Quarter', 'Full', 'Last Quarter')),\n",
    "            INITIAL_SEED_COUNT INTEGER NOT NULL,\n",
    "            SPROUT_DATE DATE,\n",
    "            BAGGING_DATE DATE,\n",
    "            INITIAL_PLANT_COUNT INTEGER,\n",
    "            NOTES TEXT,\n",
    "            FOREIGN KEY (SPECIES_ID) REFERENCES SPECIES(ID)\n",
    "        )\n",
    "    ''')\n",
    "\n",
    "    # 3. BATCH_OBSERVATION table Focused on plant counts & health\n",
    "    cursor.execute('''\n",
    "        CREATE TABLE IF NOT EXISTS BATCH_OBSERVATION(\n",
    "            ID INTEGER PRIMARY KEY AUTOINCREMENT,\n",
    "            BATCH_ID INTEGER NOT NULL,\n",
    "            OBSERVATION_DATE DATE NOT NULL,\n",
    "            MOON_PHASE TEXT CHECK (MOON_PHASE IN ('New', 'First Quarter', 'Full', 'Last Quarter')),\n",
    "            LIVE_PLANT_COUNT INTEGER NOT NULL,\n",
    "            HEIGHT_AVG_CM REAL,\n",
    "            HEALTH_INDICATOR TEXT CHECK(HEALTH_INDICATOR IN ('Excellent', 'Good', 'Fair', 'Poor')),\n",
    "            NOTES TEXT,\n",
    "            FOREIGN KEY (BATCH_ID) REFERENCES BATCH(ID),\n",
    "            UNIQUE(BATCH_ID, OBSERVATION_DATE)  \n",
    "        )\n",
    "    ''')\n",
    "\n",
    "    # 4. WATERING_LOG table focused in irrigation\n",
    "    cursor.execute('''\n",
    "        CREATE TABLE IF NOT EXISTS WATERING_LOG (\n",
    "            ID INTEGER PRIMARY KEY AUTOINCREMENT,\n",
    "            BATCH_ID INTEGER NOT NULL,\n",
    "            WATERING_TIMESTAMP DATETIME NOT NULL,\n",
    "            WATER_AMOUNT_LT REAL,\n",
    "            METHOD TEXT CHECK(METHOD IN('Sprinkler', 'Drip', 'Bottle Watering', 'Hose' )),\n",
    "            NOTES TEXT,\n",
    "            FOREIGN KEY (BATCH_ID) REFERENCES BATCH(ID)\n",
    "        )\n",
    "    ''')\n",
    "\n",
    "    # 5. WEATHER_LOG table to track separatedly rain and other relevant weather conditions\n",
    "    cursor.execute('''\n",
    "        CREATE TABLE IF NOT EXISTS WEATHER_LOG (\n",
    "            ID INTEGER PRIMARY KEY AUTOINCREMENT,\n",
    "            TIMESTAMP_START DATETIME NOT NULL,\n",
    "            TIMESTAMP_END DATETIME NOT NULL,\n",
    "            PRECIPITATION_CATEGORY TEXT CHECK (PRECIPITATION_CATEGORY IN ('None', 'Heavy Rain', 'Moderate Rain', 'Persistent Drizzle')),\n",
    "            MAX_TEMP_C REAL,\n",
    "            MIN_TEMP_C REAL,\n",
    "            NOTES TEXT\n",
    "        )\n",
    "    ''')\n",
    "\n",
    "    # 6 PEST_MONITORING table for pest control and efficiency over time\n",
    "    cursor.execute('''\n",
    "        CREATE TABLE IF NOT EXISTS PEST_MONITORING_LOG (\n",
    "            ID INTEGER PRIMARY KEY AUTOINCREMENT,\n",
    "            BATCH_ID INTEGER NOT NULL,\n",
    "            PEST_NAME TEXT,\n",
    "            SEVERITY_LEVEL TEXT CHECK(SEVERITY_LEVEL IN ('None', 'Low', 'Medium', 'High')),\n",
    "            APPLICATION_TIMESTAMP DATETIME NOT NULL,\n",
    "            MOON_PHASE TEXT CHECK (MOON_PHASE IN ('New', 'First Quarter', 'Full', 'Last Quarter')),\n",
    "            PRODUCT_NAME TEXT,   \n",
    "            APPLICATION_METHOD TEXT,\n",
    "            PRODUCT_DOSE REAL\n",
    "        )\n",
    "    ''')\n",
    "\n",
    "    # 7 COSTS table to track the operational expenses\n",
    "    cursor.execute('''\n",
    "        CREATE TABLE IF NOT EXISTS EXPENSES (\n",
    "            ID INTEGER PRIMARY KEY AUTOINCREMENT,\n",
    "            DATE DATE NOT NULL,\n",
    "            CATEGORY TEXT NOT NULL,\n",
    "            DESCRIPTION TEXT NOT NULL,\n",
    "            AMOUNT REAL NOT NULL,\n",
    "            NOTES TEXT\n",
    "        )\n",
    "    ''')\n",
    "\n",
    "\n",
    "    conn.commit()\n",
    "    print(\"Database schema created successfully!\")\n",
    "\n",
    "except sqlite3.Error as e:\n",
    "    print(f\"An error occurred : {e}\")\n",
    "    conn.rollback()\n",
    "\n",
    "finally:\n",
    "    conn.close()"
   ]
  }
 ],
 "metadata": {
  "kernelspec": {
   "display_name": ".venv",
   "language": "python",
   "name": "python3"
  },
  "language_info": {
   "codemirror_mode": {
    "name": "ipython",
    "version": 3
   },
   "file_extension": ".py",
   "mimetype": "text/x-python",
   "name": "python",
   "nbconvert_exporter": "python",
   "pygments_lexer": "ipython3",
   "version": "3.13.0"
  }
 },
 "nbformat": 4,
 "nbformat_minor": 5
}
