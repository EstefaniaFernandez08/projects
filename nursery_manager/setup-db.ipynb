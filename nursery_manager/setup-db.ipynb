{
 "cells": [
  {
   "cell_type": "markdown",
   "id": "bc489702",
   "metadata": {},
   "source": [
    "\n",
    "___________\n",
    "### 0. Delete database"
   ]
  },
  {
   "cell_type": "code",
   "execution_count": 3,
   "id": "c8ad0afe",
   "metadata": {},
   "outputs": [
    {
     "name": "stdout",
     "output_type": "stream",
     "text": [
      "Database file removed completely!\n"
     ]
    }
   ],
   "source": [
    "import os\n",
    "import sqlite3\n",
    "\n",
    "# Close any existing connections\n",
    "conn = sqlite3.connect('nursery.db')\n",
    "conn.close()\n",
    "\n",
    "# Delete the file completely\n",
    "if os.path.exists('nursery.db'):\n",
    "    os.remove('nursery.db')\n",
    "    print(\"Database file removed completely!\")\n",
    "else:\n",
    "    print (\"Database file did not exist.\")"
   ]
  },
  {
   "cell_type": "code",
   "execution_count": 4,
   "id": "14bcf4f1",
   "metadata": {},
   "outputs": [
    {
     "name": "stdout",
     "output_type": "stream",
     "text": [
      "Table dropped successfully\n"
     ]
    }
   ],
   "source": [
    "import sqlite3\n",
    "\n",
    "# Connect to your database\n",
    "conn = sqlite3.connect('nursery.db')\n",
    "cursor = conn.cursor()\n",
    "\n",
    "# To DROP specific tables\n",
    "try:\n",
    "    cursor.execute('''\n",
    "        DROP TABLE IF EXISTS ESPECIE_LOTE\n",
    "    ''')\n",
    "    conn.commit()  # Important: Save the changes\n",
    "    print(\"Table dropped successfully\")\n",
    "    \n",
    "except sqlite3.Error as e:\n",
    "    print(f\"Error dropping table: {e}\")\n",
    "    \n",
    "finally:\n",
    "    conn.close()  # Always close the connection"
   ]
  },
  {
   "cell_type": "markdown",
   "id": "927e64c9",
   "metadata": {},
   "source": [
    "______________________\n",
    "### 1. Database creation and table architecture "
   ]
  },
  {
   "cell_type": "code",
   "execution_count": 6,
   "id": "8b1df77c",
   "metadata": {},
   "outputs": [
    {
     "name": "stdout",
     "output_type": "stream",
     "text": [
      "Database schema created successfully!\n"
     ]
    }
   ],
   "source": [
    "import sqlite3\n",
    "\n",
    "# Connect to database\n",
    "conn = sqlite3.connect('nursery.db')\n",
    "cursor = conn.cursor()\n",
    "\n",
    "try:\n",
    "    # 1. Tabla ESPECIES para atributos estáticos y descriptivos de cada especie, habiendo equivalencia entre lote y especie\n",
    "    cursor.execute('''\n",
    "        CREATE TABLE IF NOT EXISTS ESPECIE_LOTE (\n",
    "            ID INTEGER PRIMARY KEY AUTOINCREMENT,\n",
    "            NOMBRE_CIENTIFICO TEXT NOT NULL UNIQUE,\n",
    "            NOMBRE_COMUN TEXT,\n",
    "            FAMILIA TEXT, \n",
    "            FECHA_INICIO DATE,\n",
    "            GERMINACION_PROMEDIO TEXT CHECK (GERMINACION_PROMEDIO IN ('Menos 8 días', 'De 8 a 10 días', 'De 10 a 15 días', 'Más de 15 días')),\n",
    "            CRECIMIENTO TEXT CHECK(CRECIMIENTO IN ('Lento', 'Moderado', 'Rápido')),\n",
    "            RIEGO TEXT CHECK(RIEGO IN ('Bajo', 'Medio', 'Alto')),\n",
    "            LUZ TEXT CHECK(LUZ IN ('Pleno sol', 'Sombra parcial', 'Sombra')),\n",
    "            PROPAGACION TEXT CHECK (PROPAGACION IN ('Semilla', 'Esqueje', 'División', 'Acodo', 'Injerto')),\n",
    "            NOTAS TEXT\n",
    "        )            \n",
    "    ''')\n",
    "\n",
    "       # 2. Tabla ENTRADA_PLANTAS - Registra cada siembra/adición de plantas\n",
    "    cursor.execute('''\n",
    "        CREATE TABLE IF NOT EXISTS ENTRADA_PLANTAS (\n",
    "            ID_ENTRADA INTEGER PRIMARY KEY AUTOINCREMENT,\n",
    "            ESPECIE_LOTE_ID INTEGER NOT NULL,\n",
    "            CODIGO_ENTRADA TEXT NOT NULL UNIQUE, -- Identificador único: ESPECIE-FECHA-SECUENCIA\n",
    "            FECHA_ENTRADA DATE NOT NULL,\n",
    "            TIPO_ENTRADA TEXT CHECK (TIPO_ENTRADA IN ('Trasplante', 'Esqueje', 'Donación', 'Compra')),\n",
    "            \n",
    "            -- Fields for seed propagation\n",
    "            FECHA_SIEMBRA DATE,\n",
    "            CANTIDAD_SEMILLAS INTEGER,\n",
    "            FECHA_BROTACION DATE,\n",
    "\n",
    "            -- Fields for cutting propagation\n",
    "            FECHA_CORTE DATE,\n",
    "            CANTIDAD_ESQUEJES INTEGER,\n",
    "            \n",
    "            -- General fields\n",
    "            CANTIDAD_PLANTAS_EMBOLSADAS INTEGER,\n",
    "            FECHA_EMBOLSADO DATE,\n",
    "            FASE_LUNAR TEXT CHECK (FASE_LUNAR IN ('Nueva', 'Cuarto Creciente', 'Llena', 'Cuarto Menguante')),\n",
    "            NOTAS TEXT,\n",
    "            FOREIGN KEY (ESPECIE_LOTE_ID) REFERENCES ESPECIE_LOTE(ID)\n",
    "        )\n",
    "    ''')\n",
    "\n",
    "    # 3. Tabla OBSERVACION_LOTE - Monitoreo continuo\n",
    "    cursor.execute('''\n",
    "        CREATE TABLE IF NOT EXISTS OBSERVACION_LOTE(\n",
    "            ID INTEGER PRIMARY KEY AUTOINCREMENT,\n",
    "            ESPECIE_LOTE_ID INTEGER NOT NULL,\n",
    "            FECHA_OBSERVACION DATE NOT NULL,\n",
    "            CANTIDAD_PLANTAS_VIVAS INTEGER NOT NULL,\n",
    "            ALTURA_PROMEDIO_CM REAL,\n",
    "            ETAPA_CRECIMIENTO TEXT CHECK (ETAPA_CRECIMIENTO IN ('Almácigo', 'Germinando', 'A embolsar', ' Plantula embolsada', 'Lista para sembrar')),\n",
    "            INDICADOR_SALUD TEXT CHECK(INDICADOR_SALUD IN ('Excelente', 'Buena', 'Regular', 'Mala')),\n",
    "            NOTAS TEXT,\n",
    "            FOREIGN KEY (ESPECIE_LOTE_ID) REFERENCES ESPECIE_LOTE(ID),\n",
    "            UNIQUE(ESPECIE_LOTE_ID, FECHA_OBSERVACION)\n",
    "        )\n",
    "    ''')\n",
    "\n",
    "    # 4. Tabla REGISTRO_RIEGO enfocada en irrigación\n",
    "    cursor.execute('''\n",
    "        CREATE TABLE IF NOT EXISTS REGISTRO_RIEGO (\n",
    "            ID INTEGER PRIMARY KEY AUTOINCREMENT,\n",
    "            ESPECIE_LOTE_ID INTEGER NOT NULL,\n",
    "            FECHA DATE NOT NULL,\n",
    "            CANTIDAD_AGUA_LT REAL,\n",
    "            NOTAS TEXT,\n",
    "            FOREIGN KEY (ESPECIE_LOTE_ID) REFERENCES ESPECIE_LOTE(ID)\n",
    "        );\n",
    "    ''')\n",
    "\n",
    "    # 5. Tabla REGISTRO_CLIMA para registrar lluvia y otras condiciones climáticas relevantes\n",
    "    cursor.execute('''\n",
    "        CREATE TABLE IF NOT EXISTS REGISTRO_CLIMA (\n",
    "            ID INTEGER PRIMARY KEY AUTOINCREMENT,\n",
    "            FECHA_HORA_INICIO DATETIME NOT NULL,\n",
    "            FECHA_HORA_FIN DATETIME NOT NULL,\n",
    "            CATEGORIA_PRECIPITACION TEXT CHECK (CATEGORIA_PRECIPITACION IN ('Lluvia Intensa', 'Lluvia Moderada', 'Llovizna Persistente')),\n",
    "            NOTAS TEXT\n",
    "        )\n",
    "    ''')\n",
    "\n",
    "    # 6 Tabla REGISTRO_MONITOREO_PLAGAS para control de plagas y eficiencia en el tiempo\n",
    "    cursor.execute('''\n",
    "        CREATE TABLE IF NOT EXISTS REGISTRO_MONITOREO_PLAGAS (\n",
    "            ID INTEGER PRIMARY KEY AUTOINCREMENT,\n",
    "            ESPECIE_LOTE_ID INTEGER NOT NULL,\n",
    "            DESCRIPCIÓN_PLAGA TEXT,\n",
    "            NIVEL_GRAVEDAD TEXT CHECK(NIVEL_GRAVEDAD IN ('Ninguno', 'Bajo', 'Medio', 'Alto')),\n",
    "            FECHA DATE NOT NULL,\n",
    "            FASE_LUNAR TEXT CHECK (FASE_LUNAR IN ('Nueva', 'Cuarto Creciente', 'Llena', 'Cuarto Menguante')),\n",
    "            NOMBRE_PRODUCTO TEXT,   \n",
    "            DOSIS_PRODUCTO REAL,\n",
    "            CANTIDAD_AGUA TEXT\n",
    "        )\n",
    "    ''')\n",
    "\n",
    "    # 7 Tabla GASTOS para registrar los gastos operativos\n",
    "    cursor.execute('''\n",
    "        CREATE TABLE IF NOT EXISTS GASTOS (\n",
    "            ID INTEGER PRIMARY KEY AUTOINCREMENT,\n",
    "            FECHA DATE NOT NULL,\n",
    "            CATEGORIA TEXT NOT NULL,\n",
    "            DESCRIPCION TEXT NOT NULL,\n",
    "            MONTO REAL NOT NULL,\n",
    "            NOTAS TEXT\n",
    "        )\n",
    "    ''')\n",
    "\n",
    "    conn.commit()\n",
    "    print(\"Database schema created successfully!\")\n",
    "\n",
    "except sqlite3.Error as e:\n",
    "    print(f\"An error occurred : {e}\")\n",
    "    conn.rollback()\n",
    "\n",
    "finally:\n",
    "    conn.close()"
   ]
  }
 ],
 "metadata": {
  "kernelspec": {
   "display_name": "Creates",
   "language": "python",
   "name": "python3"
  },
  "language_info": {
   "codemirror_mode": {
    "name": "ipython",
    "version": 3
   },
   "file_extension": ".py",
   "mimetype": "text/x-python",
   "name": "python",
   "nbconvert_exporter": "python",
   "pygments_lexer": "ipython3",
   "version": "3.13.0"
  }
 },
 "nbformat": 4,
 "nbformat_minor": 5
}
