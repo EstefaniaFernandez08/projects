{
 "cells": [
  {
   "cell_type": "markdown",
   "id": "bc489702",
   "metadata": {},
   "source": [
    "\n",
    "___________\n",
    "### 0. Delete Database And Tables"
   ]
  },
  {
   "cell_type": "code",
   "execution_count": 1,
   "id": "c8ad0afe",
   "metadata": {},
   "outputs": [
    {
     "name": "stdout",
     "output_type": "stream",
     "text": [
      "Database file removed completely!\n"
     ]
    }
   ],
   "source": [
    "import os\n",
    "import sqlite3\n",
    "\n",
    "# Close any existing connections\n",
    "conn = sqlite3.connect('nursery.db')\n",
    "conn.close()\n",
    "\n",
    "# Delete the file completely\n",
    "if os.path.exists('nursery.db'):\n",
    "    os.remove('nursery.db')\n",
    "    print(\"Database file removed completely!\")\n",
    "else:\n",
    "    print (\"Database file did not exist.\")"
   ]
  },
  {
   "cell_type": "code",
   "execution_count": null,
   "id": "14bcf4f1",
   "metadata": {},
   "outputs": [],
   "source": [
    "import sqlite3\n",
    "\n",
    "# Connect to your database\n",
    "conn = sqlite3.connect('nursery.db')\n",
    "cursor = conn.cursor()\n",
    "\n",
    "try:\n",
    "    # Corrected execute() spelling and added IF EXISTS clause\n",
    "    cursor.execute('''\n",
    "        DROP TABLE IF EXISTS NURSERY_PESTC\n",
    "    ''')\n",
    "    conn.commit()  # Important: Save the changes\n",
    "    print(\"Table dropped successfully\")\n",
    "    \n",
    "except sqlite3.Error as e:\n",
    "    print(f\"Error dropping table: {e}\")\n",
    "    \n",
    "finally:\n",
    "    conn.close()  # Always close the connection"
   ]
  },
  {
   "cell_type": "markdown",
   "id": "927e64c9",
   "metadata": {},
   "source": [
    "______________________\n",
    "### 1. Create Database File And Table Structure"
   ]
  },
  {
   "cell_type": "code",
   "execution_count": null,
   "id": "99f18b4e",
   "metadata": {},
   "outputs": [],
   "source": [
    "import sqlite3\n",
    "\n",
    "# Create or connect to the sql database file\n",
    "conn = sqlite3.connect('nursery.db')\n",
    "cursor=conn.cursor() # Once you open the connection\n",
    "conn.close()  # Always close the connection\n"
   ]
  },
  {
   "cell_type": "code",
   "execution_count": null,
   "id": "8b1df77c",
   "metadata": {},
   "outputs": [
    {
     "name": "stdout",
     "output_type": "stream",
     "text": [
      "Tables created successfully\n"
     ]
    }
   ],
   "source": [
    "import sqlite3\n",
    "\n",
    "# Connect to database\n",
    "conn = sqlite3.connect('nursery.db')\n",
    "cursor = conn.cursor()\n",
    "\n",
    "try:\n",
    "    # Create the species table structure\n",
    "    cursor.execute('''\n",
    "        CREATE TABLE IF NOT EXISTS SPECIES (\n",
    "            ID INTEGER PRIMARY KEY AUTOINCREMENT,\n",
    "            SCIENTIFIC_NAME TEXT NOT NULL UNIQUE,\n",
    "            COMMON_NAME TEXT,\n",
    "            FAMILY TEXT,\n",
    "            GROWTH_RATE TEXT CHECK(GROWTH_RATE IN ('Slow', 'Moderate', 'Fast')),\n",
    "            WATER_NEEDS TEXT CHECK(WATER_NEEDS IN ('Low', 'Medium', 'High')),\n",
    "            LIGHT_REQUIREMENTS TEXT CHECK(LIGHT_REQUIREMENTS IN ('Full Sun', 'Partial Shade', 'Shade')),\n",
    "            NOTES TEXT\n",
    "        )            \n",
    "    ''')\n",
    "\n",
    "    # Create the Batches Table with foreign key constraint\n",
    "    cursor.execute('''\n",
    "        CREATE TABLE IF NOT EXISTS BATCH (\n",
    "            ID INTEGER PRIMARY KEY AUTOINCREMENT,\n",
    "            SPECIES_ID INTEGER NOT NULL,\n",
    "            BATCH_CODE TEXT NOT NULL UNIQUE,\n",
    "            START_DATE DATE NOT NULL,\n",
    "            INITIAL_COUNT INTEGER NOT NULL,\n",
    "            CURRENT_COUNT INTEGER,\n",
    "            STATUS TEXT CHECK(STATUS IN ('Active', 'Archived', 'Planted')),\n",
    "            NOTES TEXT,\n",
    "            FOREIGN KEY (SPECIES_ID) REFERENCES SPECIES(ID)\n",
    "        )\n",
    "    ''')\n",
    "\n",
    "\n",
    "    conn.commit()\n",
    "    print(\"Tables created successfully\")\n",
    "\n",
    "except sqlite3.Error as e:\n",
    "    print(f\"Error creating tables: {e}\")\n",
    "    conn.rollback()\n",
    "\n",
    "finally:\n",
    "    conn.close()"
   ]
  },
  {
   "cell_type": "code",
   "execution_count": null,
   "id": "1b78426d",
   "metadata": {},
   "outputs": [],
   "source": [
    "# Create the preliminar table structure\n",
    "cursor.execute('''\n",
    "    CREATE TABLE NURSERY_PESTC (\n",
    "                ID INTEGER PRIMARY KEY AUTOINCREMENT,\n",
    "                BATCH_CODE TEXT NOT NULL,               -- Código único del lote (ej: FRT-2024-08)\n",
    "                TREE_SPECIES TEXT NOT NULL,             -- Nombre científico (ej: Fraxinus excelsior)\n",
    "                PEST_TYPE TEXT NOT NULL,                -- Tipo de plaga (ej: Tetranychus urticae)\n",
    "                INFESTATION_LEVEL TEXT CHECK(INFESTATION_LEVEL IN ('Leve', 'Moderado', 'Grave')), \n",
    "                TREE_COUNT_TOTAL INTEGER NOT NULL,\n",
    "                TREE_COUNT_AFFECTED INTEGER NOT NULL,\n",
    "                BIOLOGICAL_CONTROL_USED TEXT,           -- Agente biológico (ej: Amblyseius swirskii)\n",
    "                CHEMICAL_PRODUCT_NAME TEXT,             -- Nombre comercial (ej: Acetamiprid 20%)\n",
    "                APPLICATION_METHOD TEXT,                -- (ej: Pulverización foliar, Riego al suelo)\n",
    "                PRODUCT_DOSE REAL,                      -- Dosis exacta (ej: 2.5 ml/L)\n",
    "                APPLICATION_DATE DATE NOT NULL\n",
    "\n",
    "    )            \n",
    "''')"
   ]
  },
  {
   "cell_type": "code",
   "execution_count": null,
   "id": "aac8da11",
   "metadata": {},
   "outputs": [],
   "source": []
  }
 ],
 "metadata": {
  "kernelspec": {
   "display_name": "Creates",
   "language": "python",
   "name": "python3"
  },
  "language_info": {
   "codemirror_mode": {
    "name": "ipython",
    "version": 3
   },
   "file_extension": ".py",
   "mimetype": "text/x-python",
   "name": "python",
   "nbconvert_exporter": "python",
   "pygments_lexer": "ipython3",
   "version": "3.13.0"
  }
 },
 "nbformat": 4,
 "nbformat_minor": 5
}
