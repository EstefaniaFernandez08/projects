{
 "cells": [
  {
   "cell_type": "markdown",
   "id": "5c11a9c2",
   "metadata": {},
   "source": [
    "______\n",
    "## Species Preliminary Ingest"
   ]
  },
  {
   "cell_type": "code",
   "execution_count": null,
   "id": "acc12151",
   "metadata": {},
   "outputs": [],
   "source": [
    "import sqlite3\n",
    "\n",
    "# Database standard connection\n",
    "conn=sqlite3.connect('nursery.db')\n",
    "cursor=conn.cursor()\n",
    "\n",
    "# Premilinar species data\n",
    "species_data = [\n",
    "    ('Tabebuia Rosea', 'Roble Rosado', 'Bignoniaceae', 'Moderate', 'Medium', 'Full Sun'),\n",
    "    ('Laburnum Anagyroides', 'Lluvia de Oro', 'Fabaceae', 'Moderate', 'Medium', 'Full Sun'),\n",
    "    ('Mangifera indica', 'Mango', 'Anacardiaceae', 'Moderate', 'Medium', 'Full Sun'),\n",
    "    ('Delonix regia', 'Acacia', 'Fabaceae', 'Fast', 'Medium', 'Full Sun'),\n",
    "    ('Citrus paradisi', 'Toronja', 'Rutaceae', 'Slow', 'Medium', 'Full Sun'),\n",
    "    ('Carica papaya', 'Papaya', 'Caricaceae', 'Fast', 'Medium', 'Full Sun'),\n",
    "]\n",
    "\n",
    "# parametrized query for multiple row insertion\n",
    "insert_query = '''\n",
    "    INSERT INTO SPECIES \n",
    "        (SCIENTIFIC_NAME, COMMON_NAME, FAMILY, GROWTH_RATE, WATER_NEEDS, LIGHT_REQUIREMENTS)\n",
    "    VALUES\n",
    "        (?,?,?,?,?,?)\n",
    "'''\n",
    "\n",
    "# Excecute in transaction\n",
    "with sqlite3.connect('nursery.db') as conn:\n",
    "    conn.executemany(insert_query, species_data)"
   ]
  },
  {
   "cell_type": "markdown",
   "id": "87d8f4ca",
   "metadata": {},
   "source": [
    "_______\n",
    "## Batch Preliminary Ingest"
   ]
  },
  {
   "cell_type": "code",
   "execution_count": null,
   "id": "f60f2f50",
   "metadata": {},
   "outputs": [],
   "source": [
    "def get_next_batch_code(cursor, species_id):\n",
    "    \"\"\"\n",
    "    Generate the next batch code for a given species ID\n",
    "    Format: First 3 letters of common name (uppercase) + sequential number\n",
    "    \"\"\"\n",
    "    # Get the common name for the species\n",
    "    cursor.execute(\"SELECT COMMON_NAME FROM SPECIES WHERE ID = ?\", (species_id,))\n",
    "    result = cursor.fetchone()\n",
    "    \n",
    "    if not result:\n",
    "        raise ValueError(f\"Species with ID {species_id} does not exist\")\n",
    "    \n",
    "    common_name = result[0]\n",
    "    prefix = common_name[:3].upper()\n",
    "    \n",
    "    # Count how many batches already exist for this species\n",
    "    cursor.execute(\"SELECT COUNT(*) FROM BATCH WHERE SPECIES_ID = ?\", (species_id,))\n",
    "    count = cursor.fetchone()[0]\n",
    "    \n",
    "    return f\"{prefix}{count + 1}\""
   ]
  },
  {
   "cell_type": "code",
   "execution_count": null,
   "id": "c86c9090",
   "metadata": {},
   "outputs": [],
   "source": [
    "import sqlite3\n",
    "\n",
    "# Database standard connection\n",
    "conn=sqlite3.connect('nursery.db')\n",
    "cursor=conn.cursor()\n",
    "\n",
    "# Preliminar batch data\n",
    "batch_data=[\n",
    "    ('2', '', '06-22-2025', '200', '06-28-2025', '07-19-2025', '91'),\n",
    "    ('3', '', '06-06-2025', '101', '06-29-2025', '07-24-2025', '38'),\n",
    "    ('1', '', '05-02-2025', '300', '05-20-2025', '06-08-2025', '101'),\n",
    "    ('1', '', '05-15-2025','80','05-29-2025', '06-19-2025', '57'),\n",
    "    ('4', '','05-22-2025','15','06-01-2025','06-19-2025', '7'),\n",
    "    ('5', '', '04-30-2025', '70', '05-18-2025', '06-08-2025', '57')\n",
    "]\n",
    "\n",
    "# Parametrized query for multiple row insertion\n",
    "insert_query = '''\n",
    "INSERT INTO SPECIES\n",
    "    (SPECIES_ID, BATCH_CODE, START_DATE, INITIAL_SEED_COUNT, SPROUT_DATE, BAGGING_DATE, INITIAL_PLANT_COUNT)\n",
    "VALUES\n",
    "    (?,?,?,?,?,?,?)\n",
    "'''\n",
    "\n",
    "# Excecute in transaction\n",
    "with sqlite3.connect('nursery.db') as conn:\n",
    "    conn.executemany(insert_query, batch_data)"
   ]
  }
 ],
 "metadata": {
  "kernelspec": {
   "display_name": "Creates",
   "language": "python",
   "name": "python3"
  },
  "language_info": {
   "codemirror_mode": {
    "name": "ipython",
    "version": 3
   },
   "file_extension": ".py",
   "mimetype": "text/x-python",
   "name": "python",
   "nbconvert_exporter": "python",
   "pygments_lexer": "ipython3",
   "version": "3.13.0"
  }
 },
 "nbformat": 4,
 "nbformat_minor": 5
}
