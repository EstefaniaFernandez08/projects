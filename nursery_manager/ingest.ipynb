{
 "cells": [
  {
   "cell_type": "markdown",
   "id": "5c11a9c2",
   "metadata": {},
   "source": [
    "______\n",
    "## Species Preliminary Ingest"
   ]
  },
  {
   "cell_type": "code",
   "execution_count": null,
   "id": "acc12151",
   "metadata": {},
   "outputs": [],
   "source": [
    "import sqlite3\n",
    "\n",
    "# Database standard connection\n",
    "conn=sqlite3.connect('nursery.db')\n",
    "cursor=conn.cursor()\n",
    "\n",
    "# Premilinar species data\n",
    "species_data = [\n",
    "    ('Tabebuia Rosea', 'Roble Rosado', 'Bignoniaceae','2025-05-18' , 'De 8 a 10 días', 'Moderado', 'Medio', 'Pleno sol'),\n",
    "    ('Tabebuia impetiginosa', 'Roble Morado','Bignoniaceae','2025-05-02','Más de 15 días', 'Moderado', 'Medio', 'Pleno sol'),\n",
    "    ('Laburnum Anagyroides', 'Lluvia de Oro', 'Fabaceae', '2025-06-22','De 8 a 10 días', 'Moderado', 'Medio', 'Pleno sol'),\n",
    "    ('Mangifera indica', 'Mango', 'Anacardiaceae', '2025-07-06','Más de 15 días', 'Moderado', 'Medio', 'Pleno sol'),\n",
    "    ('Delonix regia', 'Acacia', 'Fabaceae', '2025-05-18','De 8 a 10 días', 'Rápido', 'Medio', 'Sombra parcial'),\n",
    "    ('Citrus paradisi', 'Toronja', 'Rutaceae', '2025-05-11','Más de 15 días', 'Lento', 'Medio', 'Pleno sol'),\n",
    "    ('Carica papaya', 'Papaya', 'Caricaceae', '2025-05-11', 'Menos 8 días', 'Rápido', 'Medio', 'Pleno sol'),\n",
    "    ('Dypsis lutescens', 'Palma Areca', 'Plantae', '2025-08-29','Más de 15 días', 'Rápido', 'Medio', 'Sombra parcial'),\n",
    "    ('Vachellia farnesiana', 'Aromo', 'Fabaceae', '2025-08-29', 'De 10 a 15 días', 'Rápido', 'Medio', 'Pleno sol'),\n",
    "    ('Dracaena trifasciata', 'Lengua de Suegra','Asparagaceae', '2025-08-11', 'Más de 15 días', 'Lento', 'Bajo', 'Pleno sol'),\n",
    "    ('Terminalia catappa', 'Almendro', 'Combretaceae', '2025-08-29', 'Más de 15 días', 'Rápido', 'Medio', 'Pleno sol'),\n",
    "    ('Zamioculcas zamiifolia', 'Millonaria', 'Araceae', '2025-08-29','De 10 a 15 días', 'Lento', 'Bajo', 'Sombra parcial'),\n",
    "    ('Luffa aegyptiaca', 'Estropajo', 'Cucurbitaceae', '2025-08-11', 'De 8 a 10 días', 'Rápido', 'Alto', 'Pleno sol')\n",
    "]\n",
    "\n",
    "# parametrized query for multiple row insertion\n",
    "insert_query = '''\n",
    "    INSERT INTO ESPECIE_LOTE\n",
    "        (NOMBRE_CIENTIFICO, NOMBRE_COMUN, FAMILIA, FECHA_INICIO, GERMINACION_PROMEDIO, CRECIMIENTO, RIEGO, LUZ)\n",
    "    VALUES\n",
    "        (?,?,?,?,?,?,?,?)\n",
    "'''\n",
    "\n",
    "# Excecute in transaction\n",
    "with sqlite3.connect('nursery.db') as conn:\n",
    "    conn.executemany(insert_query, species_data)"
   ]
  },
  {
   "cell_type": "markdown",
   "id": "87d8f4ca",
   "metadata": {},
   "source": [
    "_______\n",
    "## Batch Preliminary Ingest"
   ]
  },
  {
   "cell_type": "code",
   "execution_count": null,
   "id": "c86c9090",
   "metadata": {},
   "outputs": [],
   "source": [
    "import sqlite3\n",
    "\n",
    "# Database standard connection\n",
    "conn=sqlite3.connect('nursery.db')\n",
    "cursor=conn.cursor()\n",
    "\n",
    "# Preliminar batch data\n",
    "batch_data=[\n",
    "    ('2', '', '06-22-2025', '200', '06-28-2025', '07-19-2025', '91'),\n",
    "    ('3', '', '06-06-2025', '101', '06-29-2025', '07-24-2025', '38'),\n",
    "    ('1', '', '05-02-2025', '300', '05-20-2025', '06-08-2025', '101'),\n",
    "    ('1', '', '05-15-2025','80','05-29-2025', '06-19-2025', '57'),\n",
    "    ('4', '','05-22-2025','15','06-01-2025','06-19-2025', '7'),\n",
    "    ('5', '', '04-30-2025', '70', '05-18-2025', '06-08-2025', '57')\n",
    "]\n",
    "\n",
    "# Parametrized query for multiple row insertion\n",
    "insert_query = '''\n",
    "INSERT INTO SPECIES\n",
    "    (SPECIES_ID, BATCH_CODE, START_DATE, INITIAL_SEED_COUNT, SPROUT_DATE, BAGGING_DATE, INITIAL_PLANT_COUNT)\n",
    "VALUES\n",
    "    (?,?,?,?,?,?,?)\n",
    "'''\n",
    "\n",
    "# Excecute in transaction\n",
    "with sqlite3.connect('nursery.db') as conn:\n",
    "    conn.executemany(insert_query, batch_data)"
   ]
  }
 ],
 "metadata": {
  "kernelspec": {
   "display_name": "Creates",
   "language": "python",
   "name": "python3"
  },
  "language_info": {
   "codemirror_mode": {
    "name": "ipython",
    "version": 3
   },
   "file_extension": ".py",
   "mimetype": "text/x-python",
   "name": "python",
   "nbconvert_exporter": "python",
   "pygments_lexer": "ipython3",
   "version": "3.13.0"
  }
 },
 "nbformat": 4,
 "nbformat_minor": 5
}
