{
 "cells": [
  {
   "cell_type": "code",
   "execution_count": 3,
   "id": "acc12151",
   "metadata": {},
   "outputs": [],
   "source": [
    "import sqlite3\n",
    "\n",
    "# Premilinar data ingest\n",
    "conn=sqlite3.connect('nursery.db')\n",
    "cursor=conn.cursor()\n",
    "\n",
    "species_data = [\n",
    "    ('Tabebuia Rosea', 'Roble Rosado', 'Bignoniaceae', 'Moderate', 'Medium', 'Full Sun'),\n",
    "    ('Laburnum Anagyroides', 'Lluvia de Oro', 'Fabaceae', 'Moderate', 'Medium', 'Full Sun'),\n",
    "    ('Mangifera indica', 'Mango', 'Anacardiaceae', 'Moderate', 'Medium', 'Full Sun'),\n",
    "    ('Delonix regia', 'Acacia', 'Fabaceae', 'Fast', 'Medium', 'Full Sun'),\n",
    "    ('Citrus paradisi', 'Toronja', 'Rutaceae', 'Slow', 'Medium', 'Full Sun'),\n",
    "    ('Carica papaya', 'Papaya', 'Caricaceae', 'Fast', 'Medium', 'Full Sun'),\n",
    "]\n",
    "\n",
    "# parametrized query for multiple row insertion\n",
    "insert_query = '''\n",
    "    INSERT INTO SPECIES \n",
    "        (SCIENTIFIC_NAME, COMMON_NAME, FAMILY, GROWTH_RATE, WATER_NEEDS, LIGHT_REQUIREMENTS)\n",
    "    VALUES\n",
    "        (?,?,?,?,?,?)\n",
    "'''\n",
    "\n",
    "# Excecute in transaction\n",
    "with sqlite3.connect('nursery.db') as conn:\n",
    "    conn.executemany(insert_query, species_data)"
   ]
  }
 ],
 "metadata": {
  "kernelspec": {
   "display_name": "Creates",
   "language": "python",
   "name": "python3"
  },
  "language_info": {
   "codemirror_mode": {
    "name": "ipython",
    "version": 3
   },
   "file_extension": ".py",
   "mimetype": "text/x-python",
   "name": "python",
   "nbconvert_exporter": "python",
   "pygments_lexer": "ipython3",
   "version": "3.13.0"
  }
 },
 "nbformat": 4,
 "nbformat_minor": 5
}
