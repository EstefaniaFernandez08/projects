{
 "cells": [
  {
   "cell_type": "code",
   "execution_count": 1,
   "metadata": {},
   "outputs": [
    {
     "name": "stdout",
     "output_type": "stream",
     "text": [
      "         Date  Water Intake (liters)  Exercise (minutes)  Sleep (hours)  \\\n",
      "0  2024-11-01                    2.5                  30              7   \n",
      "1  2024-11-02                    3.0                  45              8   \n",
      "2  2024-11-03                    2.8                  20              6   \n",
      "\n",
      "   Meditation (minutes)  \n",
      "0                    10  \n",
      "1                    15  \n",
      "2                     5  \n"
     ]
    }
   ],
   "source": [
    "import pandas as pd\n",
    "\n",
    "# Define the dummy data for habit tracking\n",
    "data = {\n",
    "    'Date': ['2024-11-01', '2024-11-02', '2024-11-03'],\n",
    "    'Water Intake (liters)': [2.5, 3.0, 2.8],\n",
    "    'Exercise (minutes)': [30, 45, 20],\n",
    "    'Sleep (hours)': [7, 8, 6],\n",
    "    'Meditation (minutes)': [10, 15, 5]\n",
    "}\n",
    "\n",
    "# Create the DataFrame\n",
    "habit_df = pd.DataFrame(data)\n",
    "\n",
    "# Display the DataFrame\n",
    "print(habit_df)"
   ]
  }
 ],
 "metadata": {
  "kernelspec": {
   "display_name": "venv",
   "language": "python",
   "name": "python3"
  },
  "language_info": {
   "codemirror_mode": {
    "name": "ipython",
    "version": 3
   },
   "file_extension": ".py",
   "mimetype": "text/x-python",
   "name": "python",
   "nbconvert_exporter": "python",
   "pygments_lexer": "ipython3",
   "version": "3.13.0"
  }
 },
 "nbformat": 4,
 "nbformat_minor": 2
}
