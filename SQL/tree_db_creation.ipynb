{
 "cells": [
  {
   "cell_type": "code",
   "execution_count": 6,
   "id": "c8d1e942",
   "metadata": {},
   "outputs": [],
   "source": [
    "import sqlite3\n",
    "\n",
    "# Connect to the existing database file\n",
    "conn = sqlite3.connect('reforestation.db')\n",
    "cursor=conn.cursor()\n",
    "\n",
    "# Insert the second line\n",
    "cursor.execute('''\n",
    "    INSERT INTO PRELIMINAR\n",
    "                (GENERAL_LOCATION, SPECIFIC_LOCATION, AREA_M2, PERIMETER_M)\n",
    "            VALUES\n",
    "                ('Parque lluvia de oro', 'Frente a Torcaza I', 893.16, 144.64)\n",
    "''')\n",
    "\n",
    "conn.commit()\n",
    "conn.close()\n",
    "\n"
   ]
  },
  {
   "cell_type": "code",
   "execution_count": 9,
   "id": "c9ec53bd",
   "metadata": {},
   "outputs": [
    {
     "name": "stdout",
     "output_type": "stream",
     "text": [
      "   ID      GENERAL_LOCATION   SPECIFIC_LOCATION  AREA_M2  PERIMETER_M  \\\n",
      "0   1  Parque lluvia de oro             Rotonda  1123.25       122.22   \n",
      "1   2  Parque lluvia de oro  Frente a Torcaza I   893.16       144.64   \n",
      "\n",
      "   TREES_BY_AREA  TREES_BY_PERIMETER  \n",
      "0           70.0                30.0  \n",
      "1            NaN                 NaN  \n"
     ]
    }
   ],
   "source": [
    "import pandas as pd\n",
    "\n",
    "# Print the inserted data\n",
    "conn = sqlite3.connect('reforestation.db')\n",
    "df = pd.read_sql(\"SELECT * FROM PRELIMINAR\", conn)\n",
    "print(df)\n",
    "\n",
    "conn.close()"
   ]
  },
  {
   "cell_type": "code",
   "execution_count": null,
   "id": "4857e091",
   "metadata": {},
   "outputs": [],
   "source": [
    "import sqlite3\n",
    "\n",
    "# Insert multiple rows to th existing database\n",
    "# list of tupples to insert\n",
    "location_data = [\n",
    "    ('Parque lluvia de oro', 'Frente a Torcaza II', 850.62, 1335.55),\n",
    "    ('Parque lluvia de oro', 'Cancha de Futbol', 1658.05, 163.8 ),\n",
    "    ('Parque lluvia de oro', 'Frente a Gorrión I', 539.14, 97.81 ),\n",
    "    ('Parque lluvia de oro', 'Frente a Gorrión II', 2098.78, 188.02),\n",
    "    ('Parque lluvia de oro', 'Frente a Gorrión III',2398.02,208.31),\n",
    "    ('Parque lluvia de oro', 'Frente a Gorrión IV',1424.44, 152.78),\n",
    "    ('Parque lluvia de oro', 'Frente a Tórtola I',2076.92, 194.4),\n",
    "    ('Parque lluvia de oro', 'Frente a Tórtola II',2326.86, 205.78),\n",
    "    ('Parque lluvia de oro', 'Servidumbre I',524.58,95.83),\n",
    "    ('Parque lluvia de oro', 'Servidumbre II',472.91,83.13),\n",
    "    ('Parque lluvia de oro', 'Servidumbre III',596.44,95.61),\n",
    "    ('Parque lluvia de oro', 'Servidumbre IV',777.23,124.58)\n",
    "    ('Parque lluvia de oro', 'Servidumbre V', 3954.72, 270.59),\n",
    "]\n",
    "\n"
   ]
  }
 ],
 "metadata": {
  "kernelspec": {
   "display_name": "venv",
   "language": "python",
   "name": "python3"
  },
  "language_info": {
   "codemirror_mode": {
    "name": "ipython",
    "version": 3
   },
   "file_extension": ".py",
   "mimetype": "text/x-python",
   "name": "python",
   "nbconvert_exporter": "python",
   "pygments_lexer": "ipython3",
   "version": "3.13.0"
  }
 },
 "nbformat": 4,
 "nbformat_minor": 5
}
