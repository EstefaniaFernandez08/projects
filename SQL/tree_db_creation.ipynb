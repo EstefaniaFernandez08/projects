{
 "cells": [
  {
   "cell_type": "markdown",
   "id": "e1e523c2",
   "metadata": {},
   "source": [
    "________________\n",
    "### 0. Delete Database file "
   ]
  },
  {
   "cell_type": "code",
   "execution_count": 2,
   "id": "6602d101",
   "metadata": {},
   "outputs": [
    {
     "name": "stdout",
     "output_type": "stream",
     "text": [
      "Database file deleted completely\n"
     ]
    }
   ],
   "source": [
    "import os\n",
    "import sqlite3\n",
    "\n",
    "# Close any existing connections\n",
    "conn = sqlite3.connect('reforestation.db')\n",
    "conn.close()\n",
    "\n",
    "# Delete the file completely\n",
    "if os.path.exists('reforestation.db'):\n",
    "    os.remove('reforestation.db')\n",
    "    print (\"Database file deleted completely\")\n",
    "else:\n",
    "    print(\"Database file did not exist.\")"
   ]
  },
  {
   "cell_type": "markdown",
   "id": "dc1e8275",
   "metadata": {},
   "source": [
    "_______\n",
    "### 1. Create Database file and table structure"
   ]
  },
  {
   "cell_type": "code",
   "execution_count": 3,
   "id": "9f0b0bdc",
   "metadata": {},
   "outputs": [
    {
     "data": {
      "text/plain": [
       "<sqlite3.Cursor at 0x112302740>"
      ]
     },
     "execution_count": 3,
     "metadata": {},
     "output_type": "execute_result"
    }
   ],
   "source": [
    "import sqlite3\n",
    "\n",
    "# Create a sql database file\n",
    "conn = sqlite3.connect('reforestation.db')\n",
    "cursor=conn.cursor()\n",
    "\n",
    "# Create a table for the preliminary data\n",
    "cursor.execute('''\n",
    "    CREATE TABLE PRELIMINAR (\n",
    "                ID INTEGER PRIMARY KEY AUTOINCREMENT,\n",
    "                GENERAL_LOCATION TEXT,\n",
    "                SPECIFIC_LOCATION TEXT,\n",
    "                AREA_M2 REAL,\n",
    "                PERIMETER_M REAL,\n",
    "                TREES_BY_AREA INTEGER,\n",
    "                TREES_BY_PERIMETER INTEGER\n",
    "    )\n",
    "''')"
   ]
  },
  {
   "cell_type": "markdown",
   "id": "83a33455",
   "metadata": {},
   "source": [
    "______\n",
    "### 2. Data insertion"
   ]
  },
  {
   "cell_type": "markdown",
   "id": "9d72a138",
   "metadata": {},
   "source": [
    "#### Single line"
   ]
  },
  {
   "cell_type": "code",
   "execution_count": 6,
   "id": "c8d1e942",
   "metadata": {},
   "outputs": [],
   "source": [
    "import sqlite3\n",
    "\n",
    "# Connect to the existing database file\n",
    "conn = sqlite3.connect('reforestation.db')\n",
    "cursor=conn.cursor()\n",
    "\n",
    "# Insert the second line\n",
    "cursor.execute('''\n",
    "    INSERT INTO PRELIMINAR\n",
    "                (GENERAL_LOCATION, SPECIFIC_LOCATION, AREA_M2, PERIMETER_M)\n",
    "            VALUES\n",
    "                ('Parque lluvia de oro', 'Frente a Torcaza I', 893.16, 144.64)\n",
    "''')\n",
    "\n",
    "conn.commit()\n",
    "conn.close()\n",
    "\n"
   ]
  },
  {
   "cell_type": "markdown",
   "id": "ed53254e",
   "metadata": {},
   "source": [
    "#### Multiple lines"
   ]
  },
  {
   "cell_type": "code",
   "execution_count": 4,
   "id": "4857e091",
   "metadata": {},
   "outputs": [],
   "source": [
    "import sqlite3\n",
    "\n",
    "# Insert multiple rows to th existing database\n",
    "# list of tupples to insert\n",
    "location_data = [\n",
    "    ('Parque lluvia de oro', 'Rotonda', 1123.25, 122.22,),\n",
    "    ('Parque lluvia de oro', 'Frente a Torcaza I', 893.16, 144.64),\n",
    "    ('Parque lluvia de oro', 'Frente a Torcaza II', 850.62, 135.55),\n",
    "    ('Parque lluvia de oro', 'Cancha de Futbol', 1100.76, 203.72 ),\n",
    "    ('Parque lluvia de oro', 'Frente a Gorrión I', 539.14, 97.81 ),\n",
    "    ('Parque lluvia de oro', 'Frente a Gorrión II', 2098.78, 188.02),\n",
    "    ('Parque lluvia de oro', 'Frente a Gorrión III',2398.02,208.31),\n",
    "    ('Parque lluvia de oro', 'Frente a Gorrión IV',1424.44, 152.78),\n",
    "    ('Parque lluvia de oro', 'Frente a Tórtola I',2076.92, 194.4),\n",
    "    ('Parque lluvia de oro', 'Frente a Tórtola II',2326.86, 205.78),\n",
    "    ('Parque lluvia de oro', 'Servidumbre I',524.58,95.83),\n",
    "    ('Parque lluvia de oro', 'Servidumbre II',472.91,83.13),\n",
    "    ('Parque lluvia de oro', 'Servidumbre III',596.44,95.61),\n",
    "    ('Parque lluvia de oro', 'Servidumbre IV',777.23,124.58),\n",
    "    ('Parque lluvia de oro', 'Servidumbre V', 3954.72, 270.59),\n",
    "]\n",
    "\n",
    "# Single SQL command with parameterized query\n",
    "insert_query = ''' \n",
    "    INSERT INTO PRELIMINAR \n",
    "        (GENERAL_LOCATION, SPECIFIC_LOCATION, AREA_M2, PERIMETER_M)\n",
    "    VALUES\n",
    "        (?,?,?,?)\n",
    "''' \n",
    "\n",
    "# Excecute in transaction\n",
    "with sqlite3.connect('reforestation.db') as conn:\n",
    "    conn.executemany(insert_query, location_data)\n"
   ]
  },
  {
   "cell_type": "markdown",
   "id": "32f82672",
   "metadata": {},
   "source": [
    "______\n",
    "### 5. Update data"
   ]
  },
  {
   "cell_type": "code",
   "execution_count": 5,
   "id": "655b6adb",
   "metadata": {},
   "outputs": [],
   "source": [
    "import sqlite3\n",
    "\n",
    "conn = sqlite3.connect('reforestation.db')\n",
    "cursor = conn.cursor()\n",
    "\n",
    "cursor.execute('''\n",
    "    UPDATE PRELIMINAR\n",
    "    SET\n",
    "        TREES_BY_AREA = FLOOR(AREA_M2/16),\n",
    "        TREES_BY_PERIMETER = FLOOR(PERIMETER_M/4)\n",
    "    WHERE\n",
    "        TREES_BY_AREA IS NULL\n",
    "        OR TREES_BY_PERIMETER IS NULL\n",
    "''')\n",
    "\n",
    "conn.commit()\n",
    "conn.close()"
   ]
  },
  {
   "cell_type": "code",
   "execution_count": 1,
   "id": "976336f1",
   "metadata": {},
   "outputs": [],
   "source": [
    "import sqlite3\n",
    "\n",
    "conn = sqlite3.connect('reforestation.db')\n",
    "cursor = conn.cursor()\n",
    "\n",
    "# Use update set specific columns to null \n",
    "cursor.execute('''\n",
    "    UPDATE PRELIMINAR\n",
    "    SET \n",
    "        TREES_BY_AREA = NULL,\n",
    "        TREES_BY_PERIMETER = NULL\n",
    "''')\n",
    "\n",
    "conn.commit()\n",
    "conn.close()"
   ]
  },
  {
   "cell_type": "markdown",
   "id": "9b3a5c6f",
   "metadata": {},
   "source": [
    "_____________\n",
    "### 6. Data Aggregation "
   ]
  },
  {
   "cell_type": "code",
   "execution_count": 6,
   "id": "225d7b28",
   "metadata": {},
   "outputs": [
    {
     "data": {
      "text/html": [
       "\n",
       "    <style>\n",
       "        .scroll-table {\n",
       "            max-height: 300px;\n",
       "            overflow: auto;\n",
       "            margin: 10px 0;\n",
       "        }\n",
       "        .data-table {\n",
       "            border-collapse: collapse;\n",
       "            width: 100%;\n",
       "        }\n",
       "        .data-table td, .data-table th {\n",
       "            border: 1px solid #ddd;\n",
       "            padding: 8px;\n",
       "            text-align: right;\n",
       "        }\n",
       "        .data-table th {\n",
       "            background: #f0f8ff;\n",
       "            position: sticky;\n",
       "            top: 0;\n",
       "        }\n",
       "    </style>\n",
       "    <div class='scroll-table'><table class='data-table'><tr><th>TOTAL_PLANTING_AREA_M2</th><th>TOTAL_AREA_TREES</th><th>TOTAL_PLANTING_PERIMETER_M</th><th>TOTAL_PERIMETER_TREES</th></tr><tr><td>21,157</td><td>1,315</td><td>2,322</td><td>573</td></tr></table></div>"
      ],
      "text/plain": [
       "<IPython.core.display.HTML object>"
      ]
     },
     "metadata": {},
     "output_type": "display_data"
    }
   ],
   "source": [
    "import sqlite3\n",
    "from IPython.display import display, HTML\n",
    "\n",
    "def display_query_results(query):\n",
    "    \"\"\"Universal function to display SQL results in scrollable HTML table\"\"\"\n",
    "    # Base CSS for all tables\n",
    "    css = \"\"\"\n",
    "    <style>\n",
    "        .scroll-table {\n",
    "            max-height: 300px;\n",
    "            overflow: auto;\n",
    "            margin: 10px 0;\n",
    "        }\n",
    "        .data-table {\n",
    "            border-collapse: collapse;\n",
    "            width: 100%;\n",
    "        }\n",
    "        .data-table td, .data-table th {\n",
    "            border: 1px solid #ddd;\n",
    "            padding: 8px;\n",
    "            text-align: right;\n",
    "        }\n",
    "        .data-table th {\n",
    "            background: #f0f8ff;\n",
    "            position: sticky;\n",
    "            top: 0;\n",
    "        }\n",
    "    </style>\n",
    "    \"\"\"\n",
    "    \n",
    "    try:\n",
    "        with sqlite3.connect('reforestation.db') as conn:\n",
    "            cursor = conn.cursor()\n",
    "            cursor.execute(query)\n",
    "            \n",
    "            # Get results and column names\n",
    "            results = cursor.fetchall()\n",
    "            columns = [desc[0] for desc in cursor.description]\n",
    "            \n",
    "            # Build HTML table\n",
    "            html_table = f\"{css}<div class='scroll-table'><table class='data-table'><tr>\"\n",
    "            html_table += \"\".join(f\"<th>{col}</th>\" for col in columns) + \"</tr>\"\n",
    "            \n",
    "            for row in results:\n",
    "                html_table += \"<tr>\" + \"\".join(f\"<td>{format_value(val)}</td>\" for val in row) + \"</tr>\"\n",
    "            \n",
    "            html_table += \"</table></div>\"\n",
    "            display(HTML(html_table))\n",
    "            \n",
    "    except Exception as e:\n",
    "        print(f\"Error: {e}\")\n",
    "\n",
    "def format_value(value):\n",
    "    \"\"\"Universal formatting for different data types\"\"\"\n",
    "    if isinstance(value, (int, float)):\n",
    "        return f\"{value:,.2f}\" if value % 1 else f\"{value:,.0f}\"\n",
    "    return str(value)\n",
    "\n",
    "# Usage example:\n",
    "display_query_results('''\n",
    "    SELECT \n",
    "        FLOOR(SUM(AREA_M2)) AS TOTAL_PLANTING_AREA_M2,\n",
    "        SUM(TREES_BY_AREA) AS TOTAL_AREA_TREES,\n",
    "        FLOOR(SUM(PERIMETER_M)) AS TOTAL_PLANTING_PERIMETER_M,\n",
    "        SUM(TREES_BY_PERIMETER) AS TOTAL_PERIMETER_TREES\n",
    "    FROM PRELIMINAR\n",
    "''')\n",
    "\n"
   ]
  },
  {
   "cell_type": "markdown",
   "id": "56d5f5f3",
   "metadata": {},
   "source": [
    "________\n",
    "### 7. Relational Operation\n",
    "\n"
   ]
  },
  {
   "cell_type": "code",
   "execution_count": 7,
   "id": "8e0434cf",
   "metadata": {},
   "outputs": [
    {
     "data": {
      "text/plain": [
       "<sqlite3.Cursor at 0x112303dc0>"
      ]
     },
     "execution_count": 7,
     "metadata": {},
     "output_type": "execute_result"
    }
   ],
   "source": [
    "import sqlite3\n",
    "\n",
    "# Connect to the database file\n",
    "conn = sqlite3.connect('reforestation.db')\n",
    "cursor = conn.cursor()\n",
    "\n",
    "# Create an alternative table to operate the preliminar data with\n",
    "cursor.execute('''\n",
    "    CREATE TABLE REAL (\n",
    "        ID INTEGER PRIMARY KEY AUTOINCREMENT,\n",
    "        GENERAL_LOCATION TEXT,\n",
    "        SPECIFIC_LOCATION TEXT,   \n",
    "        REAL_COUNT INTEGER\n",
    "    ) \n",
    "''')"
   ]
  },
  {
   "cell_type": "code",
   "execution_count": null,
   "id": "8a256a7f",
   "metadata": {},
   "outputs": [],
   "source": [
    "# Insert multiple rows to the existing database\n",
    "\n",
    "# list of tupples to insert\n",
    "real_data = [\n",
    "    ('Parque lluvia de oro', 'Rotonda', 16 ),\n",
    "    ('Parque lluvia de oro', 'Frente a Torcaza I', 20),\n",
    "    ('Parque lluvia de oro', 'Frente a Torcaza II',14),\n",
    "    ('Parque lluvia de oro', 'Cancha de Futbol', 36 ),\n",
    "    ('Parque lluvia de oro', 'Frente a Gorrión I', 0 ),\n",
    "    ('Parque lluvia de oro', 'Frente a Gorrión II', 24),\n",
    "    ('Parque lluvia de oro', 'Frente a Gorrión III',29),\n",
    "    ('Parque lluvia de oro', 'Frente a Gorrión IV',),\n",
    "    ('Parque lluvia de oro', 'Frente a Tórtola I',),\n",
    "    ('Parque lluvia de oro', 'Frente a Tórtola II',),\n",
    "    ('Parque lluvia de oro', 'Servidumbre I',),\n",
    "    ('Parque lluvia de oro', 'Servidumbre II',),\n",
    "    ('Parque lluvia de oro', 'Servidumbre III',),\n",
    "    ('Parque lluvia de oro', 'Servidumbre IV',),\n",
    "    ('Parque lluvia de oro', 'Servidumbre V', 0),\n",
    "]\n",
    "\n"
   ]
  }
 ],
 "metadata": {
  "kernelspec": {
   "display_name": "venv",
   "language": "python",
   "name": "python3"
  },
  "language_info": {
   "codemirror_mode": {
    "name": "ipython",
    "version": 3
   },
   "file_extension": ".py",
   "mimetype": "text/x-python",
   "name": "python",
   "nbconvert_exporter": "python",
   "pygments_lexer": "ipython3",
   "version": "3.13.0"
  }
 },
 "nbformat": 4,
 "nbformat_minor": 5
}
