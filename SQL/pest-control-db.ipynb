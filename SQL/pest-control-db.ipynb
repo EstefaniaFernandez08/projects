{
 "cells": [
  {
   "cell_type": "markdown",
   "id": "bc489702",
   "metadata": {},
   "source": [
    "\n",
    "___________\n",
    "### 0. Delete Database"
   ]
  },
  {
   "cell_type": "code",
   "execution_count": 8,
   "id": "c8ad0afe",
   "metadata": {},
   "outputs": [
    {
     "name": "stdout",
     "output_type": "stream",
     "text": [
      "Database file removed completely!\n"
     ]
    }
   ],
   "source": [
    "import os\n",
    "import sqlite3\n",
    "\n",
    "# Close any existing connections\n",
    "conn = sqlite3.connect('pest_control.db')\n",
    "conn.close()\n",
    "\n",
    "# Delete the file completely\n",
    "if os.path.exists('pest_control.db'):\n",
    "    os.remove('pest_control.db')\n",
    "    print(\"Database file removed completely!\")\n",
    "else:\n",
    "    print (\"Database file did not exist.\")"
   ]
  },
  {
   "cell_type": "markdown",
   "id": "927e64c9",
   "metadata": {},
   "source": [
    "______________________\n",
    "### 1. Create Database File And Table Structure"
   ]
  },
  {
   "cell_type": "code",
   "execution_count": 14,
   "id": "99f18b4e",
   "metadata": {},
   "outputs": [
    {
     "data": {
      "text/plain": [
       "<sqlite3.Cursor at 0x1185448c0>"
      ]
     },
     "execution_count": 14,
     "metadata": {},
     "output_type": "execute_result"
    }
   ],
   "source": [
    "import sqlite3\n",
    "\n",
    "# Create a sql database file\n",
    "conn = sqlite3.connect('pest_control.db')\n",
    "cursor=conn.cursor()\n",
    "\n",
    "# Create the table for the preliminar data\n",
    "cursor.execute('''\n",
    "    CREATE TABLE NURSERY_PESTC (\n",
    "                ID INTEGER PRIMARY KEY AUTOINCREMENT,\n",
    "                BATCH_CODE TEXT NOT NULL,               -- Código único del lote (ej: FRT-2024-08)\n",
    "                TREE_SPECIES TEXT NOT NULL,             -- Nombre científico (ej: Fraxinus excelsior)\n",
    "                PEST_TYPE TEXT NOT NULL,                -- Tipo de plaga (ej: Tetranychus urticae)\n",
    "                INFESTATION_LEVEL TEXT CHECK(INFESTATION_LEVEL IN ('Leve', 'Moderado', 'Grave')), \n",
    "                TREE_COUNT_TOTAL INTEGER NOT NULL,\n",
    "                TREE_COUNT_AFFECTED INTEGER NOT NULL,\n",
    "                BIOLOGICAL_CONTROL_USED TEXT,           -- Agente biológico (ej: Amblyseius swirskii)\n",
    "                CHEMICAL_PRODUCT_NAME TEXT,             -- Nombre comercial (ej: Acetamiprid 20%)\n",
    "                APPLICATION_METHOD TEXT,                -- (ej: Pulverización foliar, Riego al suelo)\n",
    "                PRODUCT_DOSE REAL,                      -- Dosis exacta (ej: 2.5 ml/L)\n",
    "                APPLICATION_DATE DATE NOT NULL\n",
    "\n",
    "    )            \n",
    "''')\n"
   ]
  },
  {
   "cell_type": "code",
   "execution_count": null,
   "id": "8b1df77c",
   "metadata": {},
   "outputs": [],
   "source": []
  }
 ],
 "metadata": {
  "kernelspec": {
   "display_name": "venv",
   "language": "python",
   "name": "python3"
  },
  "language_info": {
   "codemirror_mode": {
    "name": "ipython",
    "version": 3
   },
   "file_extension": ".py",
   "mimetype": "text/x-python",
   "name": "python",
   "nbconvert_exporter": "python",
   "pygments_lexer": "ipython3",
   "version": "3.13.0"
  }
 },
 "nbformat": 4,
 "nbformat_minor": 5
}
