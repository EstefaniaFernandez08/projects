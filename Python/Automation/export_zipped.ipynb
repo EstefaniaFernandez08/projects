{
 "cells": [
  {
   "cell_type": "code",
   "execution_count": null,
   "metadata": {},
   "outputs": [
    {
     "name": "stdout",
     "output_type": "stream",
     "text": [
      "Holding master shape as for July 01, 2024 (1040, 7)\n",
      "Supplier number distinct: 1025\n",
      "Supplier Normalized Distinct: 989\n"
     ]
    }
   ],
   "source": [
    "import pandas as pd\n",
    "from datetime import datetime\n",
    "\n",
    "dtype = {\n",
    "    'BUSINESS_GROUP':'str',\n",
    "    'SOURCE_DATA':'str',\n",
    "    'INVOICE_DATE':'str',\n",
    "    'SUPPLIER_NBR':'str',\n",
    "    'SUPPLIER_NORMALIZED':'str',\n",
    "    'SUPPLIER_PARENT':'str',\n",
    "    'HOLDING_COMPANY':'str',\n",
    "}\n",
    "# Read the existing master file\n",
    "master_file = pd.read_csv('prepared-holding_company_master 6.14.24.csv', encoding='UTF-8-SIG',dtype=dtype)\n",
    "\n",
    "print(f\"Holding master shape as for {datetime.now().strftime('%B %d, %Y')} {master_file.shape}\")\n",
    "print(f\"Supplier number distinct: {master_file['SUPPLIER_NBR'].nunique()}\")\n",
    "print(f\"Supplier Normalized Distinct: {master_file['SUPPLIER_NORMALIZED'].nunique()}\")"
   ]
  },
  {
   "cell_type": "code",
   "execution_count": null,
   "metadata": {},
   "outputs": [
    {
     "name": "stdout",
     "output_type": "stream",
     "text": [
      "Holding perwavr shape (3, 7)\n",
      "Supplier number distinct: 3\n",
      "Supplier Normalized Distinct: 3\n"
     ]
    }
   ],
   "source": [
    "# Read the most recent per-wave file\n",
    "per_wave = pd.read_csv('per-wave-holding_company_7.1.24.csv', encoding='UTF-8-SIG', dtype=dtype) \n",
    "\n",
    "print(f\"Holding perwavr shape {per_wave.shape}\")\n",
    "print(f\"Supplier number distinct: {per_wave['SUPPLIER_NBR'].nunique()}\")\n",
    "print(f\"Supplier Normalized Distinct: {per_wave['SUPPLIER_NORMALIZED'].nunique()}\")"
   ]
  },
  {
   "cell_type": "code",
   "execution_count": null,
   "metadata": {},
   "outputs": [
    {
     "name": "stdout",
     "output_type": "stream",
     "text": [
      "Holding final shape (1043, 7)\n",
      "Supplier number distinct: 1028\n",
      "Supplier Normalized Distinct: 992\n"
     ]
    }
   ],
   "source": [
    "# Perform a standard union to combine the two tables leaving per-wave at the bottom\n",
    "combined = pd.concat([master_file,per_wave], ignore_index=True)\n",
    "\n",
    "# Ensure the month abbreviation is upper case\n",
    "combined['INVOICE_DATE'] = combined['INVOICE_DATE'].str.upper()\n",
    "\n",
    "# Display the result\n",
    "print(f\"Holding final shape {combined.shape}\")\n",
    "print(f\"Supplier number distinct: {combined['SUPPLIER_NBR'].nunique()}\")\n",
    "print(f\"Supplier Normalized Distinct: {combined['SUPPLIER_NORMALIZED'].nunique()}\")"
   ]
  },
  {
   "cell_type": "code",
   "execution_count": null,
   "metadata": {},
   "outputs": [],
   "source": [
    "import zipfile\n",
    "\n",
    "# Export to csv\n",
    "csv_filename = 'prepared-holding_company_master_7.1.24.csv'\n",
    "combined.to_csv(csv_filename,encoding='UTF-8-SIG', index=False)\n",
    "\n",
    "# Create a Zip file\n",
    "zip_filename = csv_filename.replace('csv', 'zip')\n",
    "with zipfile.ZipFile(zip_filename, 'w', zipfile.ZIP_DEFLATED) as zipf:\n",
    "    # Add the CSV file to the zip archive\n",
    "    zipf.write(csv_filename)"
   ]
  }
 ],
 "metadata": {
  "language_info": {
   "name": "python"
  }
 },
 "nbformat": 4,
 "nbformat_minor": 2
}
