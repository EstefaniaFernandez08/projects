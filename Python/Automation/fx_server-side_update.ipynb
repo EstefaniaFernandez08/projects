{
 "cells": [
  {
   "cell_type": "markdown",
   "metadata": {},
   "source": [
    "<center><h1 style=\"color: #555555;\">Experience Script Documentation</h1></center>\n",
    "\n",
    "<div align=\"center\">\n",
    "    <table style=\"width: 80%; border-collapse: collapse;\">\n",
    "        <tr>\n",
    "            <th style=\"background-color: #6AAFE6; color: #ffffff; padding: 10px;\">Context</th>\n",
    "            <th style=\"background-color: #6AAFE6; color: #ffffff; padding: 10px;\">Approach</th>\n",
    "            <th style=\"background-color: #6AAFE6; color: #ffffff; padding: 10px;\">Value Created</th>\n",
    "        </tr>\n",
    "        <tr>\n",
    "            <td style=\"background-color: #E8F4FC; padding: 10px;\">Part of a currency conversion operation requiring monthly server-side updates with closing FX rates.</td>\n",
    "            <td style=\"background-color: #E8F4FC; padding: 10px;\">Applied configparser for secure API key retrival and encapsulated rate extraction using ForeignExchange class from Alpha Vantage.</td>\n",
    "            <td style=\"background-color: #E8F4FC; padding: 10px;\">Automated server-side FX rate updates, reducing processing time by 80% and eliminating human error risks.</td>\n",
    "        </tr>\n",
    "    </table>\n",
    "</div>\n",
    "</html>"
   ]
  },
  {
   "cell_type": "code",
   "execution_count": 1,
   "metadata": {},
   "outputs": [
    {
     "name": "stderr",
     "output_type": "stream",
     "text": [
      "D:\\Users\\diana.fernandez\\AppData\\Local\\Temp\\1\\ipykernel_7976\\2611687880.py:48: FutureWarning: The frame.append method is deprecated and will be removed from pandas in a future version. Use pandas.concat instead.\n",
      "  new_fx_data = new_fx_data.append({\n",
      "D:\\Users\\diana.fernandez\\AppData\\Local\\Temp\\1\\ipykernel_7976\\2611687880.py:48: FutureWarning: The frame.append method is deprecated and will be removed from pandas in a future version. Use pandas.concat instead.\n",
      "  new_fx_data = new_fx_data.append({\n",
      "D:\\Users\\diana.fernandez\\AppData\\Local\\Temp\\1\\ipykernel_7976\\2611687880.py:48: FutureWarning: The frame.append method is deprecated and will be removed from pandas in a future version. Use pandas.concat instead.\n",
      "  new_fx_data = new_fx_data.append({\n",
      "D:\\Users\\diana.fernandez\\AppData\\Local\\Temp\\1\\ipykernel_7976\\2611687880.py:48: FutureWarning: The frame.append method is deprecated and will be removed from pandas in a future version. Use pandas.concat instead.\n",
      "  new_fx_data = new_fx_data.append({\n",
      "D:\\Users\\diana.fernandez\\AppData\\Local\\Temp\\1\\ipykernel_7976\\2611687880.py:48: FutureWarning: The frame.append method is deprecated and will be removed from pandas in a future version. Use pandas.concat instead.\n",
      "  new_fx_data = new_fx_data.append({\n",
      "D:\\Users\\diana.fernandez\\AppData\\Local\\Temp\\1\\ipykernel_7976\\2611687880.py:48: FutureWarning: The frame.append method is deprecated and will be removed from pandas in a future version. Use pandas.concat instead.\n",
      "  new_fx_data = new_fx_data.append({\n"
     ]
    },
    {
     "name": "stdout",
     "output_type": "stream",
     "text": [
      "  CURRENCY    PERIOD       FX\n",
      "0      CAD  20240401  0.72582\n",
      "1      CAD  20240501  0.73330\n",
      "2      EUR  20240401  1.06665\n",
      "3      EUR  20240501  1.08354\n",
      "4      GTQ  20240401  0.12860\n",
      "5      GTQ  20240501  0.12867\n",
      "6      MXN  20240401  0.05824\n",
      "7      MXN  20240501  0.05875\n"
     ]
    },
    {
     "name": "stderr",
     "output_type": "stream",
     "text": [
      "D:\\Users\\diana.fernandez\\AppData\\Local\\Temp\\1\\ipykernel_7976\\2611687880.py:48: FutureWarning: The frame.append method is deprecated and will be removed from pandas in a future version. Use pandas.concat instead.\n",
      "  new_fx_data = new_fx_data.append({\n",
      "D:\\Users\\diana.fernandez\\AppData\\Local\\Temp\\1\\ipykernel_7976\\2611687880.py:48: FutureWarning: The frame.append method is deprecated and will be removed from pandas in a future version. Use pandas.concat instead.\n",
      "  new_fx_data = new_fx_data.append({\n"
     ]
    }
   ],
   "source": [
    "from alpha_vantage.foreignexchange import ForeignExchange\n",
    "import configparser\n",
    "import pandas as pd\n",
    "from datetime import datetime\n",
    "\n",
    "# Initialize the configuration parser\n",
    "config = configparser.ConfigParser()\n",
    "\n",
    "# Load the configuration file\n",
    "config.read('config.ini')\n",
    "\n",
    "# Accessing The API key from Alpha Vantage from the configuration values\n",
    "api_key = config['API']['API_KEY']\n",
    "cc = ForeignExchange(key=api_key)\n",
    "\n",
    "currency_pairs = {\n",
    "    'CAD': 'USD',\n",
    "    'EUR': 'USD',\n",
    "    'GTQ': 'USD',\n",
    "    'MXN': 'USD'\n",
    "}\n",
    "\n",
    "months_to_add = ['202404', '202405']  # Modify to desired months\n",
    "\n",
    "new_fx_data = pd.DataFrame()\n",
    "\n",
    "for base_currency, quote_currency in currency_pairs.items():\n",
    "    try:\n",
    "        data, _ = cc.get_currency_exchange_daily(from_symbol=base_currency, to_symbol=quote_currency, outputsize='full')\n",
    "        \n",
    "        # Convert the received data directly into a DataFrame\n",
    "        df = pd.DataFrame.from_dict(data, orient='index', dtype=float).sort_index()\n",
    "        df.index = pd.to_datetime(df.index)  # Ensure the index is datetime for easier filtering\n",
    "        \n",
    "        # Filter and process the data for each specified month\n",
    "        for month in months_to_add:\n",
    "            # Determine the start and end of the month for filtering\n",
    "            start_date = datetime.strptime(f\"{month}01\", '%Y%m%d')\n",
    "            end_date = start_date + pd.offsets.MonthEnd(1)\n",
    "            \n",
    "            # Filter the data for the month\n",
    "            month_data = df.loc[(df.index >= start_date) & (df.index <= end_date)]\n",
    "            \n",
    "            if not month_data.empty:\n",
    "                # Get the last available rate for the month\n",
    "                closing_rate = month_data.iloc[-1]['4. close']\n",
    "                \n",
    "                new_fx_data = new_fx_data.append({\n",
    "                    'CURRENCY': base_currency,\n",
    "                    'PERIOD': month + '01',\n",
    "                    'FX': closing_rate\n",
    "                }, ignore_index=True)\n",
    "    \n",
    "    except Exception as e:\n",
    "        print(f\"An error occurred while processing {base_currency}/{quote_currency}: {e}\")\n",
    "\n",
    "# Check if new_fx_data is not empty and contains the 'FX' column before conversion\n",
    "if not new_fx_data.empty and 'FX' in new_fx_data.columns:\n",
    "    new_fx_data['FX'] = new_fx_data['FX'].astype(float)\n",
    "\n",
    "print(new_fx_data)"
   ]
  },
  {
   "cell_type": "code",
   "execution_count": 2,
   "metadata": {},
   "outputs": [
    {
     "name": "stdout",
     "output_type": "stream",
     "text": [
      "Server-side before shape (940, 3)\n",
      "    CURRENCY    PERIOD       FX\n",
      "0        CAD  20190101  0.76200\n",
      "1        EUR  20190101  1.14440\n",
      "2        GTQ  20190101  0.12850\n",
      "3        MXN  20190101  0.05230\n",
      "4        CAD  20190201  0.75930\n",
      "..       ...       ...      ...\n",
      "935      MXN  20240201  0.05861\n",
      "936      CAD  20240301  0.73810\n",
      "937      EUR  20240301  1.07900\n",
      "938      GTQ  20240301  0.12827\n",
      "939      MXN  20240301  0.06027\n",
      "\n",
      "[940 rows x 3 columns]\n"
     ]
    }
   ],
   "source": [
    "# Read the original table\n",
    "dtype = {\n",
    "    'CURRENCY':'str',\n",
    "    'PERIOD':'str',\n",
    "    'FX': float,\n",
    "    }\n",
    "\n",
    "# Define the input and output paths directly\n",
    "input_path = r'D:\\\\Users\\\\diana.fernandez\\\\Downloads\\\\TBC\\\\LOOKUP TABLES\\\\FX\\\\'\n",
    "output_path = r'D:\\\\Users\\\\diana.fernandez\\\\Downloads\\\\TBC\\\\LOOKUP TABLES\\\\FX\\\\'\n",
    "\n",
    "df = pd.read_csv(input_path + 'fx_rate_server_side_table_B4_6.11.24.csv', encoding='UTF-8-SIG', dtype=dtype)\n",
    "\n",
    "df_shape = df.shape\n",
    "print(f\"Server-side before shape {df_shape}\")\n",
    "\n",
    "print(df)"
   ]
  },
  {
   "cell_type": "code",
   "execution_count": 3,
   "metadata": {},
   "outputs": [
    {
     "name": "stdout",
     "output_type": "stream",
     "text": [
      "Server-side after shape: (948, 3)\n",
      "Data exported to: D:\\\\Users\\\\diana.fernandez\\\\Downloads\\\\TBC\\\\LOOKUP TABLES\\\\FX\\\\fx_rate_server_side_table_AFT_06.11.24.csv\n"
     ]
    }
   ],
   "source": [
    "# If the DataFrames have extra columns, drop them\n",
    "columns_to_keep = ['CURRENCY', 'PERIOD', 'FX']\n",
    "new_fx_data = new_fx_data[columns_to_keep]\n",
    "\n",
    "# Append the new FX rates to the original DataFrame, ensuring it's at the bottom\n",
    "updated_df = pd.concat([df, new_fx_data], ignore_index=True)\n",
    "\n",
    "# Confirm the DataFrame has only the desired columns\n",
    "updated_df = updated_df[columns_to_keep]\n",
    "\n",
    "# Get the updated DataFrame shape for verification\n",
    "updated_df_shape = updated_df.shape\n",
    "\n",
    "# Export the updated DataFrame to a new CSV file with a timestamp\n",
    "timestamp = datetime.now().strftime('%m.%d.%y')  # Format: mm.dd.yy\n",
    "filename = output_path + f'fx_rate_server_side_table_AFT_{timestamp}.csv'\n",
    "updated_df.to_csv(filename, index=False, encoding='UTF-8-SIG')\n",
    "\n",
    "# Print the shape of the updated DataFrame and filename\n",
    "print(f\"Server-side after shape: {updated_df_shape}\")\n",
    "print(f\"Data exported to: {filename}\")\n"
   ]
  }
 ],
 "metadata": {
  "kernelspec": {
   "display_name": "Python 3",
   "language": "python",
   "name": "python3"
  },
  "language_info": {
   "codemirror_mode": {
    "name": "ipython",
    "version": 3
   },
   "file_extension": ".py",
   "mimetype": "text/x-python",
   "name": "python",
   "nbconvert_exporter": "python",
   "pygments_lexer": "ipython3",
   "version": "3.11.0"
  }
 },
 "nbformat": 4,
 "nbformat_minor": 2
}
