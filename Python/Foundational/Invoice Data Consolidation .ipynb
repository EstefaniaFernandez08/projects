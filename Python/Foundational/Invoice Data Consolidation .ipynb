{
 "cells": [
  {
   "cell_type": "markdown",
   "metadata": {},
   "source": [
    "# Invoice Data Consolidation Script\n",
    "\n",
    "## Overview\n",
    "This script consolidates invoice data from three monthly CSV files into a single DataFrame. It performs data type specification, calculates total amounts, and saves the merged data to a new CSV file.\n",
    "\n",
    "## Process Goal\n",
    "The goal of this script is to:\n",
    "1. Read invoice data from three separate CSV files representing different months (January, February, March 2024).\n",
    "2. Specify data types for each column to ensure data integrity.\n",
    "3. Print the shape and total corporate net amount for each month's data.\n",
    "4. Merge the data from all three months into a final consolidated DataFrame.\n",
    "5. Save the final DataFrame as a new CSV file for further analysis.\n",
    "\n",
    "## Considerations for Improvement\n",
    "- **Dynamic File Handling**: Use a loop or list comprehension to read and merge files, reducing redundancy in code.\n",
    "- **Error Handling**: Implement error handling for file reading operations to manage potential issues (e.g., missing files).\n",
    "- **Data Validation**: Include checks to validate the integrity of the data (e.g., ensuring no missing values in critical columns) before merging.\n",
    "- **Documentation**: Add comments or docstrings to explain the purpose of specific code sections for future reference and clarity."
   ]
  },
  {
   "cell_type": "code",
   "execution_count": null,
   "metadata": {},
   "outputs": [
    {
     "name": "stdout",
     "output_type": "stream",
     "text": [
      "Jan 2024 shape (1012, 28) and total amount(53143177.26)\n",
      "Feb 2024 shape (1149, 28) and total amount (37179546.95)\n",
      "Mar 2024 shape (1303, 28) and total amount (71022512.69)\n"
     ]
    }
   ],
   "source": [
    "# Read files across sources\n",
    "import pandas as pd\n",
    "\n",
    "dtype = {\n",
    "    'Vendor':'str',\n",
    "    'Vendor ID':'str',\n",
    "    'Vendor Name':'str',\n",
    "    'CorpSegment6 _ FAF Category':'str',\n",
    "    'GL Description':'str',\n",
    "    'Project Code':'str',\n",
    "    'CorpSegment6 _ FAF Managerial Mapping':'str',\n",
    "    'CorpSegment6 _ Unconsolidated Mapping':'str',\n",
    "    'FPA Function':'str',\n",
    "    'ORG UNIT _ Region Rollup':'str',\n",
    "    'ORG UNIT _ Business Unit Rollup':'str',\n",
    "    'Subway or FAF':'str',\n",
    "    'Invoice #':'str',\n",
    "    'Project Code Description':'str',\n",
    "    'Org Unit - Description':'str',\n",
    "    'CorpSegment6 _ FAF Working Capital':'str',\n",
    "    'Month':'str',\n",
    "    'Quarter':'str',\n",
    "    'FILE_NAME':'str',\n",
    "    'Corporate Net Amount': float\n",
    "}\n",
    "\n",
    "period_n = pd.read_csv('Invoice_FAF_FEB 04.18.2024.csv', encoding='UTF-8-SIG', dtype=dtype)\n",
    "period_n_plus1 = pd.read_csv('Invoice_FAF_MAR 04.18.2024.csv', encoding='UTF-8-SIG', dtype=dtype)\n",
    "period_n_plus2 = pd.read_csv('Invoice_FAF_JAN 04.18.2024.csv', encoding='UTF-8-SIG', dtype=dtype)\n",
    "\n",
    "print(f\"Jan 2024 shape {period_n_plus2.shape} and total amount({period_n_plus2['Corporate Net Amount'].sum()})\")\n",
    "print(f\"Feb 2024 shape {period_n .shape} and total amount ({period_n['Corporate Net Amount'].sum()})\")\n",
    "print(f\"Mar 2024 shape {period_n_plus1.shape} and total amount ({period_n_plus1['Corporate Net Amount'].sum()})\")"
   ]
  },
  {
   "cell_type": "code",
   "execution_count": null,
   "metadata": {},
   "outputs": [
    {
     "name": "stdout",
     "output_type": "stream",
     "text": [
      "Final shape(3464, 28) and amount(161345236.89999998)\n"
     ]
    }
   ],
   "source": [
    "final = pd.concat([period_n,period_n_plus1,period_n_plus2], ignore_index=True)\n",
    "\n",
    "final_shape = final.shape\n",
    "final_amount = final['Corporate Net Amount'].sum()\n",
    "\n",
    "print(f\"Final shape{final_shape} and amount({final_amount})\", )"
   ]
  },
  {
   "cell_type": "code",
   "execution_count": null,
   "metadata": {},
   "outputs": [],
   "source": [
    "final.to_csv('Invoice_FAF_FY24_Q1.csv', encoding='UTF-8-SIG', index=False)\n"
   ]
  }
 ],
 "metadata": {
  "language_info": {
   "name": "python"
  }
 },
 "nbformat": 4,
 "nbformat_minor": 2
}
