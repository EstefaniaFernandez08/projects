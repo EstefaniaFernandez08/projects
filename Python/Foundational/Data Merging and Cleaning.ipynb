{
 "cells": [
  {
   "cell_type": "markdown",
   "metadata": {},
   "source": [
    "# Data Merging and Cleaning Script\n",
    "\n",
    "## Overview\n",
    "This script demonstrates the process of merging multiple CSV files into a final consolidated table, while also performing basic data cleaning operations.\n",
    "\n",
    "## Process Goal\n",
    "The goal of this script is to:\n",
    "1. Read multiple CSV files containing invoice data.\n",
    "2. Append the data from missing files to their respective main files.\n",
    "3. Combine data from two sources  into a final table.\n",
    "4. Clean the final dataset by replacing NaN values with empty strings and extracting relevant columns.\n",
    "\n",
    "\n",
    "## Considerations for Improvement\n",
    "- **Path Management**: Use relative paths or configuration files for better portability.\n",
    "- **Method Update**: Replace the deprecated `append()` method with `pd.concat()`.\n",
    "- **Error Handling**: Implement basic error handling for validations before processing."
   ]
  },
  {
   "cell_type": "markdown",
   "metadata": {},
   "source": [
    "## <span style=\"color: #777777;\">MISSING FILES</span>"
   ]
  },
  {
   "cell_type": "code",
   "execution_count": 2,
   "metadata": {},
   "outputs": [
    {
     "name": "stderr",
     "output_type": "stream",
     "text": [
      "C:\\Users\\LOGICSOUERCE02\\AppData\\Local\\Temp\\ipykernel_10488\\1066120753.py:12: FutureWarning: The frame.append method is deprecated and will be removed from pandas in a future version. Use pandas.concat instead.\n",
      "  df1 = df1.append(df2, ignore_index=True)\n"
     ]
    }
   ],
   "source": [
    "import pandas as pd\n",
    "\n",
    "# Specify paths\n",
    "file1 = r\"C:\\Users\\LOGICSOUERCE02\\Downloads\\TBC RELATED\\TBC Invoice Update\\0 - GNFR\\GNFR I2P Data.csv\"\n",
    "file2 = r\"C:\\Users\\LOGICSOUERCE02\\Downloads\\TBC RELATED\\TBC Invoice Update\\0 - GNFR\\missing_files_gnfr.csv\"\n",
    "\n",
    "# Read the files\n",
    "df1 = pd.read_csv(file1)\n",
    "df2 = pd.read_csv(file2)\n",
    "\n",
    "# Append data from second file to first dataframe\n",
    "df1 = df1.append(df2, ignore_index=True)\n",
    "\n",
    "# Save the dataframe to the first file, omitting the header\n",
    "df1.to_csv(file1, index=False)\n"
   ]
  },
  {
   "cell_type": "code",
   "execution_count": 1,
   "metadata": {},
   "outputs": [
    {
     "name": "stderr",
     "output_type": "stream",
     "text": [
      "C:\\Users\\LOGICSOUERCE02\\AppData\\Local\\Temp\\ipykernel_10632\\444534097.py:8: DtypeWarning: Columns (14) have mixed types. Specify dtype option on import or set low_memory=False.\n",
      "  df1 = pd.read_csv(file1)\n",
      "C:\\Users\\LOGICSOUERCE02\\AppData\\Local\\Temp\\ipykernel_10632\\444534097.py:12: FutureWarning: The frame.append method is deprecated and will be removed from pandas in a future version. Use pandas.concat instead.\n",
      "  df1 = df1.append(df2, ignore_index=True)\n"
     ]
    }
   ],
   "source": [
    "import pandas as pd\n",
    "\n",
    "# Specify paths\n",
    "file1 = r\"C:\\Users\\LOGICSOUERCE02\\Downloads\\TBC RELATED\\TBC Invoice Update\\1 - NONPO\\Monthly I2P Data\\TO CONCAT\\NONPO FY22 - Q1.csv\"\n",
    "file2 = r\"C:\\Users\\LOGICSOUERCE02\\Downloads\\TBC RELATED\\TBC Invoice Update\\1 - NONPO\\Monthly I2P Data\\missing_files_nonpo.csv\"\n",
    "\n",
    "# Read the files\n",
    "df1 = pd.read_csv(file1)\n",
    "df2 = pd.read_csv(file2)\n",
    "\n",
    "# Append data from second file to first dataframe\n",
    "df1 = df1.append(df2, ignore_index=True)\n",
    "\n",
    "# Save the dataframe to the first file, omitting the header\n",
    "df1.to_csv(file1, index=False)\n"
   ]
  },
  {
   "cell_type": "markdown",
   "metadata": {},
   "source": [
    "## <span style=\"color: #777777;\">FINAL TABLE</span>"
   ]
  },
  {
   "cell_type": "code",
   "execution_count": 5,
   "metadata": {},
   "outputs": [
    {
     "name": "stderr",
     "output_type": "stream",
     "text": [
      "C:\\Users\\LOGICSOUERCE02\\AppData\\Local\\Temp\\ipykernel_23872\\294642710.py:16: FutureWarning: The frame.append method is deprecated and will be removed from pandas in a future version. Use pandas.concat instead.\n",
      "  final_table = df_nonpo.append(df_gnfr, ignore_index=True)\n"
     ]
    },
    {
     "name": "stdout",
     "output_type": "stream",
     "text": [
      "Row count: 2526033\n"
     ]
    }
   ],
   "source": [
    "import pandas as pd\n",
    "import numpy as np\n",
    "\n",
    "# Specify paths\n",
    "file1 = r\"C:\\Users\\LOGICSOUERCE02\\Downloads\\TBC RELATED\\TBC Invoice Update\\1 - NONPO\\nonpo_final_table.csv\"\n",
    "file2 = r\"C:\\Users\\LOGICSOUERCE02\\Downloads\\TBC RELATED\\TBC Invoice Update\\0 - GNFR\\gnfrpo_final_table.csv\"\n",
    "\n",
    "# Specify data types\n",
    "dtype={'INVOICE_NBR': str, 'SUPPLIER_NBR': str, 'INVOICE_REFERENCE': str, 'PO_NBR': str}\n",
    "\n",
    "# Read the files\n",
    "df_nonpo = pd.read_csv(file1, dtype=dtype)\n",
    "df_gnfr = pd.read_csv(file2, dtype=dtype)\n",
    "\n",
    "# Append data from second file to first dataframe\n",
    "final_table = df_nonpo.append(df_gnfr, ignore_index=True)\n",
    "\n",
    "# Convert NaNs to ' '\n",
    "final_table = final_table.replace(np.nan, ' ', regex=True)\n",
    "\n",
    "print(\"Row count:\", len(final_table))"
   ]
  },
  {
   "cell_type": "code",
   "execution_count": 6,
   "metadata": {},
   "outputs": [
    {
     "name": "stdout",
     "output_type": "stream",
     "text": [
      "        INVOICE_NBR SUPPLIER_NBR      PO_NBR INVOICE_REFERENCE\n",
      "0        1900826760       100092                  1034783930-9\n",
      "1        1700031033       100092                  1060187314-3\n",
      "2        1900827480       100092                  1060187314-3\n",
      "3        1900830756       100310                      05102021\n",
      "4        1900828585       100638                  667460153694\n",
      "...             ...          ...         ...               ...\n",
      "2526028  5107390975       171216  4500086698              4950\n",
      "2526029  5107305448       180168  4500085027         202204710\n",
      "2526030  5107205343       180276  4500066154            323493\n",
      "2526031  5107372171       182045  4500071710           000301C\n",
      "2526032  5107242787       188496  4500083186              3360\n",
      "\n",
      "[2526033 rows x 4 columns]\n"
     ]
    }
   ],
   "source": [
    "filtered_df = final_table[['INVOICE_NBR','SUPPLIER_NBR', 'PO_NBR', 'INVOICE_REFERENCE']]\n",
    "print(filtered_df)"
   ]
  },
  {
   "cell_type": "code",
   "execution_count": 7,
   "metadata": {},
   "outputs": [],
   "source": [
    "# Save the dataframe to the first file, omitting the header\n",
    "final_table.to_csv('final_table.csv', index=False, encoding='UTF-8-SIG')"
   ]
  }
 ],
 "metadata": {
  "kernelspec": {
   "display_name": "venv",
   "language": "python",
   "name": "python3"
  },
  "language_info": {
   "codemirror_mode": {
    "name": "ipython",
    "version": 3
   },
   "file_extension": ".py",
   "mimetype": "text/x-python",
   "name": "python",
   "nbconvert_exporter": "python",
   "pygments_lexer": "ipython3",
   "version": "3.13.0"
  },
  "orig_nbformat": 4
 },
 "nbformat": 4,
 "nbformat_minor": 2
}
