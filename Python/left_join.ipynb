{
 "cells": [
  {
   "cell_type": "code",
   "execution_count": null,
   "metadata": {},
   "outputs": [
    {
     "name": "stdout",
     "output_type": "stream",
     "text": [
      "The row count for the update table: 4491, and right table: 728.\n"
     ]
    }
   ],
   "source": [
    "import pandas as pd\n",
    "\n",
    "dtype = {\n",
    "    'FILE_NAME': 'str',\n",
    "    'SUPPLIER_ERP': 'str',\n",
    "    'SUPPLIER_NORMALIZED': 'str'\n",
    "}\n",
    "\n",
    "dtype1 = {\n",
    "    'FILE_NAME': 'str',\n",
    "    'SUPPLIER_NORMALIZED': 'str',\n",
    "    'SUPPLIER_NORMALIZED_AFT': 'str'\n",
    "}\n",
    "\n",
    "# read the source data frames\n",
    "update_table = pd.read_csv('update_table_b4 1.10.24.csv', encoding= 'UTF-8-SIG', dtype=dtype)\n",
    "right_table = pd.read_csv('right_table 1.10.24.csv', encoding='UTF-8-SIG',dtype=dtype1 )\n",
    "\n",
    "update_table_row_count = update_table.shape[0]\n",
    "right_table_table_row_count = right_table.shape[0]\n",
    "\n",
    "print (f\"The row count for the update table: {update_table_row_count}, and right table: {right_table_table_row_count}.\")\n",
    "\n",
    "#Use .loc to strip whitespaces in 'SUPPLIER_ERP' and 'SUPPLIER_NORMALIZED'\n",
    "update_table.loc[:, 'SUPPLIER_ERP'] = update_table['SUPPLIER_ERP'].str.strip()\n",
    "update_table.loc[:, 'SUPPLIER_NORMALIZED'] = update_table['SUPPLIER_NORMALIZED'].str.strip()\n",
    "right_table.loc[:, 'SUPPLIER_NORMALIZED'] = right_table['SUPPLIER_NORMALIZED'].str.strip()\n",
    "right_table.loc[:, 'SUPPLIER_NORMALIZED_AFT'] = right_table['SUPPLIER_NORMALIZED_AFT'].str.strip()"
   ]
  },
  {
   "cell_type": "code",
   "execution_count": null,
   "metadata": {},
   "outputs": [
    {
     "name": "stdout",
     "output_type": "stream",
     "text": [
      "(1591, 5)\n"
     ]
    }
   ],
   "source": [
    "# Create a new DataFrame by merging the tables\n",
    "merge_keys = ['FILE_NAME', 'SUPPLIER_NORMALIZED']\n",
    "\n",
    "merged_df = update_table.merge(right_table[['FILE_NAME','SUPPLIER_NORMALIZED','SUPPLIER_NORMALIZED_AFT']],\n",
    "                               on=merge_keys, how='left', suffixes= ('', '_right'))\n",
    "\n",
    "\n",
    "# Step 1: Filter merged_df to get rows with different 'SUPPLIER_NORMALIZED' and 'SUPPLIER_NORMALIZED_AFT'\n",
    "filtered_df = merged_df[merged_df['SUPPLIER_NORMALIZED'] != merged_df['SUPPLIER_NORMALIZED_AFT']]\n",
    "\n",
    "# Step 2: Drop unnecessary columns so that filtered_df has the same structure as update_table\n",
    "# Select only the relevant columns from filtered_df and rename as needed\n",
    "filtered_update_table = filtered_df[['FILE_NAME', 'SUPPLIER_ERP', 'SUPPLIER_NORMALIZED_AFT', 'TOTAL_SPEND_USD', 'ROW_COUNT']].copy()\n",
    "\n",
    "# Step 3: Rename 'SUPPLIER_NORMALIZED_AFT' to 'SUPPLIER_NORMALIZED' to preserve the cleaner version\n",
    "filtered_update_table.rename(columns={'SUPPLIER_NORMALIZED_AFT': 'SUPPLIER_NORMALIZED'}, inplace=True)\n",
    "\n",
    "shape = filtered_update_table.shape\n",
    "print(shape)"
   ]
  },
  {
   "cell_type": "code",
   "execution_count": null,
   "metadata": {},
   "outputs": [],
   "source": [
    "# export the update table \n",
    "\n",
    "filtered_update_table.to_csv('update_table_aft 1.10.24.csv', encoding='UTF-8-SIG', index=False)"
   ]
  }
 ],
 "metadata": {
  "language_info": {
   "name": "python"
  }
 },
 "nbformat": 4,
 "nbformat_minor": 2
}
