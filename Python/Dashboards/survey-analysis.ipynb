{
 "cells": [
  {
   "cell_type": "markdown",
   "id": "349fcac7",
   "metadata": {},
   "source": [
    "____________\n",
    "### 0.1 READ THE DATA SOURCE"
   ]
  },
  {
   "cell_type": "code",
   "execution_count": 4,
   "id": "12d37403",
   "metadata": {},
   "outputs": [],
   "source": [
    "import configparser\n",
    "\n",
    "# initiate the configparser\n",
    "config = configparser.ConfigParser()\n",
    "\n",
    "# Read the config.ini file\n",
    "config.read('config.ini')\n",
    "\n",
    "# Read the xlsx file\n",
    "xlsx_file_path = config['path']['owl_data']"
   ]
  },
  {
   "cell_type": "markdown",
   "id": "f43562d1",
   "metadata": {},
   "source": [
    "### 0.2. DEFINE THE HTML DISPLAY"
   ]
  },
  {
   "cell_type": "code",
   "execution_count": 7,
   "id": "d86e1e3c",
   "metadata": {},
   "outputs": [
    {
     "data": {
      "text/html": [
       "<style>\n",
       ".output {\n",
       "    max-height: 700px;\n",
       "    overflow: scroll /*Allows scrolling*/\n",
       "}\n",
       "<style>"
      ],
      "text/plain": [
       "<IPython.core.display.HTML object>"
      ]
     },
     "metadata": {},
     "output_type": "display_data"
    }
   ],
   "source": [
    "from IPython.display import display, HTML\n",
    "import pandas as pd\n",
    "\n",
    "# Define the css that will make the table scrollable\n",
    "css = \"\"\"\n",
    ".output {\n",
    "    max-height: 700px;\n",
    "    overflow: scroll /*Allows scrolling*/\n",
    "}\n",
    "\"\"\"\n",
    "\n",
    "# Apply the css for the scrollable output\n",
    "display(HTML('<style>{}<style>'.format(css)))\n",
    "\n",
    "# Configure pandas display\n",
    "pd.set_option('display.max_rows', None) # Display all rows\n",
    "pd.set_option('display.max_columns', None) # Display all columns\n",
    "pd.set_option('display.max_colwidth', 90) # Set max column width for long text\n",
    "pd.options.display.float_format = '{:,.2f}'.format # Format floating-point numbers\n"
   ]
  },
  {
   "cell_type": "code",
   "execution_count": null,
   "id": "e2fda77b",
   "metadata": {},
   "outputs": [],
   "source": []
  }
 ],
 "metadata": {
  "kernelspec": {
   "display_name": "venv",
   "language": "python",
   "name": "python3"
  },
  "language_info": {
   "codemirror_mode": {
    "name": "ipython",
    "version": 3
   },
   "file_extension": ".py",
   "mimetype": "text/x-python",
   "name": "python",
   "nbconvert_exporter": "python",
   "pygments_lexer": "ipython3",
   "version": "3.13.0"
  }
 },
 "nbformat": 4,
 "nbformat_minor": 5
}
