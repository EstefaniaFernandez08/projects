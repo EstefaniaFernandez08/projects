{
 "cells": [
  {
   "cell_type": "markdown",
   "metadata": {},
   "source": [
    "### Project and Department Master"
   ]
  },
  {
   "cell_type": "code",
   "execution_count": null,
   "metadata": {},
   "outputs": [
    {
     "name": "stdout",
     "output_type": "stream",
     "text": [
      "Project Department Masterfile 2024 Shape: (1570, 5)\n",
      "Project Department Masterfile 2023 Shape: (1949, 7)\n"
     ]
    }
   ],
   "source": [
    "import pandas as pd\n",
    "\n",
    "# Define the dtypes for the 2024 DataFrame\n",
    "dtype_2024 = {\n",
    "    'PROJECT _ Department': 'str',\n",
    "    'PROJECT _ Project Without Year': 'str',\n",
    "    'Project - Great Plains Description': 'str',\n",
    "    'PROJECT _ Project Type': 'str',\n",
    "    'PROJECT _ Corporate Project Name': 'str',\n",
    "}\n",
    "\n",
    "# Define the dtypes for the 2023 DataFrame\n",
    "dtype_2023 = {\n",
    "    'PROJECT _ Department': 'str',\n",
    "    'PROJECT _ Sub Department': 'str',\n",
    "    'PROJECT _ Department - Lowest Level': 'str',\n",
    "    'Project - Great Plains Description': 'str',\n",
    "    'PROJECT _ Project Type': 'str',\n",
    "    'PROJECT _ Corporate Project Name': 'str',\n",
    "    'PROJECT _ Project Without Year': 'str'\n",
    "}\n",
    "\n",
    "# Read the 2024 masterfile\n",
    "pro_dep_master_2024 = pd.read_excel('Procurement Project & Org Data.xlsx', \n",
    "                                    sheet_name='Projects & Department2', \n",
    "                                    skiprows=4, \n",
    "                                    dtype=dtype_2024)\n",
    "\n",
    "# Read the 2023 masterfile\n",
    "pro_dep_master_2023 = pd.read_csv('Project and Department Master.csv', \n",
    "                                  encoding='UTF-8-SIG', \n",
    "                                  skiprows=1,\n",
    "                                  dtype=dtype_2023)\n",
    "\n",
    "# Print the shape of the 2024 masterfile\n",
    "pro_dep_master_shape_2024 = pro_dep_master_2024.shape\n",
    "print(f\"Project Department Masterfile 2024 Shape: {pro_dep_master_shape_2024}\")\n",
    "\n",
    "# Print the shape of the 2023 masterfile\n",
    "pro_dep_master_shape_2023 = pro_dep_master_2023.shape\n",
    "print(f\"Project Department Masterfile 2023 Shape: {pro_dep_master_shape_2023}\")\n"
   ]
  },
  {
   "cell_type": "code",
   "execution_count": null,
   "metadata": {},
   "outputs": [
    {
     "name": "stdout",
     "output_type": "stream",
     "text": [
      "2024 Columns: ['PROJECT _ Department', 'PROJECT _ Project Without Year', 'Project - Great Plains Description', 'PROJECT _ Project Type', 'PROJECT _ Corporate Project Name']\n",
      "2023 Columns: ['PROJECT _ Department', 'PROJECT _ Sub Department', 'PROJECT _ Department - Lowest Level', 'Project - Great Plains Description', 'PROJECT _ Project Type', 'PROJECT _ Corporate Project Name', 'PROJECT _ Project Without Year']\n"
     ]
    }
   ],
   "source": [
    "# Verify that the column name is exactly the same in both DataFrames\n",
    "print(\"2024 Columns:\", pro_dep_master_2024.columns.tolist())\n",
    "print(\"2023 Columns:\", pro_dep_master_2023.columns.tolist())\n"
   ]
  },
  {
   "cell_type": "code",
   "execution_count": null,
   "metadata": {},
   "outputs": [
    {
     "name": "stdout",
     "output_type": "stream",
     "text": [
      "Common columns: ['PROJECT _ Department', 'PROJECT _ Project Without Year', 'Project - Great Plains Description', 'PROJECT _ Project Type', 'PROJECT _ Corporate Project Name']\n",
      "Number of entries from 2023 report that exist in 2024 report: 1360\n"
     ]
    }
   ],
   "source": [
    "# Identify common columns between the two DataFrames\n",
    "common_columns = pro_dep_master_2024.columns.intersection(pro_dep_master_2023.columns).tolist()\n",
    "print(f\"Common columns: {common_columns}\")\n",
    "\n",
    "# Merge the two DataFrames based on the common columns to find matching entries\n",
    "matched_entries = pd.merge(pro_dep_master_2023, pro_dep_master_2024, on='PROJECT _ Project Without Year', how='inner')\n",
    "\n",
    "# Get the number of matching entries\n",
    "num_matched_entries = matched_entries.shape[0]\n",
    "print(f\"Number of entries from 2023 report that exist in 2024 report: {num_matched_entries}\")"
   ]
  },
  {
   "cell_type": "code",
   "execution_count": null,
   "metadata": {},
   "outputs": [
    {
     "name": "stdout",
     "output_type": "stream",
     "text": [
      "Number of entries exclusive to the 2023 report: 589\n",
      "Number of entries exclusive to the 2024 report: 210\n"
     ]
    }
   ],
   "source": [
    "# Perform a left merge and set an indicator to True\n",
    "exclusive_to_2023 = pd.merge(pro_dep_master_2023, pro_dep_master_2024, \n",
    "                             on='PROJECT _ Project Without Year', \n",
    "                             how='left', \n",
    "                             indicator=True)\n",
    "\n",
    "# Perform a left merge with the dataframes switched and set an indicator to True\n",
    "exclusive_to_2024 = pd.merge(pro_dep_master_2024, pro_dep_master_2023, \n",
    "                             on='PROJECT _ Project Without Year', \n",
    "                             how='left', \n",
    "                             indicator=True)\n",
    "\n",
    "# Filter rows where the '_merge' column is 'left_only', meaning they're exclusive to the 2023 report\n",
    "exclusive_to_2023 = exclusive_to_2023[exclusive_to_2023['_merge'] == 'left_only']\n",
    "\n",
    "# Filter rows where the '_merge' column is 'left_only', meaning they're exclusive to the 2024 report\n",
    "exclusive_to_2024 = exclusive_to_2024[exclusive_to_2024['_merge'] == 'left_only']\n",
    "\n",
    "# Get the number of exclusive entries for 2023\n",
    "num_exclusive_2023 = exclusive_to_2023.shape[0]\n",
    "print(f\"Number of entries exclusive to the 2023 report: {num_exclusive_2023}\")\n",
    "\n",
    "\n",
    "# Get the number of exclusive entries for 2024\n",
    "num_exclusive_2024 = exclusive_to_2024.shape[0]\n",
    "print(f\"Number of entries exclusive to the 2024 report: {num_exclusive_2024}\")"
   ]
  },
  {
   "cell_type": "code",
   "execution_count": null,
   "metadata": {},
   "outputs": [
    {
     "name": "stdout",
     "output_type": "stream",
     "text": [
      "Number of 'PROJECT _ Project Type' entries the same: 1358\n",
      "Number of 'PROJECT _ Project Type' entries different: 2\n",
      "Number of 'Project - Great Plains Description' entries the same: 1322\n",
      "Number of 'Project - Great Plains Description' entries different: 38\n"
     ]
    }
   ],
   "source": [
    "# Merge the two DataFrames based on 'PROJECT _ Project Without Year' to find matching entries\n",
    "matching_entries = pd.merge(pro_dep_master_2023, pro_dep_master_2024, \n",
    "                            on='PROJECT _ Project Without Year', \n",
    "                            suffixes=('_2023', '_2024'))\n",
    "\n",
    "# Now compare the 'PROJECT _ Project Type' and 'Project - Great Plains Description' fields\n",
    "# We create a new DataFrame that flags if the values are the same or different\n",
    "matching_entries['project_type_same'] = matching_entries['PROJECT _ Project Type_2023'] == matching_entries['PROJECT _ Project Type_2024']\n",
    "matching_entries['project_description_same'] = matching_entries['Project - Great Plains Description_2023'] == matching_entries['Project - Great Plains Description_2024']\n",
    "\n",
    "# Count the number of matching and different entries for 'PROJECT _ Project Type'\n",
    "project_type_same_count = matching_entries['project_type_same'].sum()\n",
    "project_type_different_count = (~matching_entries['project_type_same']).sum()\n",
    "\n",
    "# Count the number of matching and different entries for 'Project - Great Plains Description'\n",
    "project_description_same_count = matching_entries['project_description_same'].sum()\n",
    "project_description_different_count = (~matching_entries['project_description_same']).sum()\n",
    "\n",
    "print(f\"Number of 'PROJECT _ Project Type' entries the same: {project_type_same_count}\")\n",
    "print(f\"Number of 'PROJECT _ Project Type' entries different: {project_type_different_count}\")\n",
    "print(f\"Number of 'Project - Great Plains Description' entries the same: {project_description_same_count}\")\n",
    "print(f\"Number of 'Project - Great Plains Description' entries different: {project_description_different_count}\")\n",
    "\n",
    "\n"
   ]
  },
  {
   "cell_type": "code",
   "execution_count": null,
   "metadata": {},
   "outputs": [],
   "source": [
    "matching_entries.to_csv('project_depatment_matching_entries.csv', encoding= 'UTF-8-SIG', index=False)"
   ]
  },
  {
   "cell_type": "markdown",
   "metadata": {},
   "source": [
    "### Org Unit Master"
   ]
  },
  {
   "cell_type": "code",
   "execution_count": null,
   "metadata": {},
   "outputs": [
    {
     "name": "stdout",
     "output_type": "stream",
     "text": [
      "Org Unit Masterfile Shape 2024: (202, 4)\n",
      "Org Unit Masterfile Shape 2023: (182, 4)\n"
     ]
    }
   ],
   "source": [
    "import pandas as pd\n",
    "\n",
    "dtype = {\n",
    "    'Org Unit - Code' :'str',\n",
    "    'Org Unit - Description' :'str',\n",
    "    'ORG UNIT _ Business Unit Rollup _ Description' :'str',\n",
    "    'ORG UNIT _ Region Rollup _ Description' :'str',\n",
    "\n",
    "}\n",
    "\n",
    "# Read the 2024 Excel file, skipping the first 4 rows\n",
    "org_unit_master_2024 = pd.read_excel('Procurement Project & Org Data.xlsx', \n",
    "                               sheet_name='Org Units',\n",
    "                               skiprows=3, \n",
    "                               dtype=dtype)\n",
    "\n",
    "# read the 2023 csv file, skipping the first row\n",
    "org_unit_master_2023 = pd.read_csv('Org Unit Master.csv',\n",
    "                                   skiprows=1,\n",
    "                                   encoding='UTF-8-SIG',\n",
    "                                   dtype=dtype)\n",
    "\n",
    "# Print the shape of the Org unit master 2024\n",
    "org_unt_master_shape24= org_unit_master_2024.shape\n",
    "print(f\"Org Unit Masterfile Shape 2024: {org_unt_master_shape24}\")\n",
    "\n",
    "# Print the shape of the Org unit master 2024\n",
    "org_unt_master_shape23= org_unit_master_2023.shape\n",
    "print(f\"Org Unit Masterfile Shape 2023: {org_unt_master_shape23}\")"
   ]
  },
  {
   "cell_type": "code",
   "execution_count": null,
   "metadata": {},
   "outputs": [
    {
     "name": "stdout",
     "output_type": "stream",
     "text": [
      "2024 Columns: ['Org Unit - Code', 'Org Unit - Description', 'ORG UNIT _ Business Unit Rollup _ Description', 'ORG UNIT _ Region Rollup _ Description']\n",
      "2023 Columns: ['ORG UNIT _ Region Rollup _ Description', 'ORG UNIT _ Business Unit Rollup _ Description', 'Org Unit - Description', 'Org Unit - Code']\n"
     ]
    }
   ],
   "source": [
    "# Verify that the column name is exactly the same in both DataFrames\n",
    "print(\"2024 Columns:\", org_unit_master_2024.columns.tolist())\n",
    "print(\"2023 Columns:\", org_unit_master_2023.columns.tolist())"
   ]
  },
  {
   "cell_type": "code",
   "execution_count": null,
   "metadata": {},
   "outputs": [
    {
     "name": "stdout",
     "output_type": "stream",
     "text": [
      "Common columns: ['Org Unit - Code', 'Org Unit - Description', 'ORG UNIT _ Business Unit Rollup _ Description', 'ORG UNIT _ Region Rollup _ Description']\n",
      "Number of entries from 2023 report that exist in 2024 report: 182\n"
     ]
    }
   ],
   "source": [
    "# Identify common columns between the two DataFrames\n",
    "common_columns = org_unit_master_2024.columns.intersection(org_unit_master_2023.columns).tolist()\n",
    "print(f\"Common columns: {common_columns}\")\n",
    "\n",
    "# Merge the two DataFrames based on the common columns to find matching entries\n",
    "matched_entries = pd.merge(org_unit_master_2023, org_unit_master_2024, on='Org Unit - Code', how='inner')\n",
    "\n",
    "# Get the number of matching entries\n",
    "num_matched_entries = matched_entries.shape[0]\n",
    "print(f\"Number of entries from 2023 report that exist in 2024 report: {num_matched_entries}\")"
   ]
  },
  {
   "cell_type": "code",
   "execution_count": null,
   "metadata": {},
   "outputs": [
    {
     "name": "stdout",
     "output_type": "stream",
     "text": [
      "Number of entries exclusive to the 2023 report: 0\n",
      "Number of entries exclusive to the 2024 report: 20\n"
     ]
    }
   ],
   "source": [
    "# Perform a left merge and set an indicator to True\n",
    "exclusive_to_2023 = pd.merge(org_unit_master_2023, org_unit_master_2024, \n",
    "                             on='Org Unit - Code', \n",
    "                             how='left', \n",
    "                             indicator=True)\n",
    "\n",
    "# Perform a left merge with the dataframes switched and set an indicator to True\n",
    "exclusive_to_2024 = pd.merge(org_unit_master_2024, org_unit_master_2023, \n",
    "                             on='Org Unit - Code', \n",
    "                             how='left', \n",
    "                             indicator=True)\n",
    "\n",
    "# Filter rows where the '_merge' column is 'left_only', meaning they're exclusive to the 2023 report\n",
    "exclusive_to_2023 = exclusive_to_2023[exclusive_to_2023['_merge'] == 'left_only']\n",
    "\n",
    "# Filter rows where the '_merge' column is 'left_only', meaning they're exclusive to the 2024 report\n",
    "exclusive_to_2024 = exclusive_to_2024[exclusive_to_2024['_merge'] == 'left_only']\n",
    "\n",
    "# Get the number of exclusive entries for 2023\n",
    "num_exclusive_2023 = exclusive_to_2023.shape[0]\n",
    "print(f\"Number of entries exclusive to the 2023 report: {num_exclusive_2023}\")\n",
    "\n",
    "\n",
    "# Get the number of exclusive entries for 2024\n",
    "num_exclusive_2024 = exclusive_to_2024.shape[0]\n",
    "print(f\"Number of entries exclusive to the 2024 report: {num_exclusive_2024}\")"
   ]
  },
  {
   "cell_type": "code",
   "execution_count": null,
   "metadata": {},
   "outputs": [
    {
     "name": "stdout",
     "output_type": "stream",
     "text": [
      "Number of Business Unit Rollup entries the same: 174\n",
      "Number of Business Unit Rollup entries different: 8\n",
      "Number of Region Rollup entries the same: 182\n",
      "Number of Region Rollup entries different: 0\n"
     ]
    }
   ],
   "source": [
    "# Merge the two DataFrames based on 'PROJECT _ Project Without Year' to find matching entries\n",
    "matching_entries = pd.merge(org_unit_master_2023, org_unit_master_2024, \n",
    "                            on='Org Unit - Code', \n",
    "                            suffixes=('_2023', '_2024'))\n",
    "\n",
    "# Now compare the 'Business Unit Rollup' and 'Region Rollup' fields\n",
    "# We create a new DataFrame that flags if the values are the same or different\n",
    "matching_entries['bu_rollup_same'] = matching_entries['ORG UNIT _ Business Unit Rollup _ Description_2023'] == matching_entries['ORG UNIT _ Business Unit Rollup _ Description_2024']\n",
    "matching_entries['region_rollup_same'] = matching_entries['ORG UNIT _ Region Rollup _ Description_2023'] == matching_entries['ORG UNIT _ Region Rollup _ Description_2024']\n",
    "\n",
    "# Count the number of matching and different entries for 'PROJECT _ Project Type'\n",
    "bu_same_count = matching_entries['bu_rollup_same'].sum()\n",
    "bu_different_count = (~matching_entries['bu_rollup_same']).sum()\n",
    "\n",
    "# Count the number of matching and different entries for 'Project - Great Plains Description'\n",
    "region_same_count = matching_entries['region_rollup_same'].sum()\n",
    "region_different_count = (~matching_entries['region_rollup_same']).sum()\n",
    "\n",
    "print(f\"Number of Business Unit Rollup entries the same: {bu_same_count}\")\n",
    "print(f\"Number of Business Unit Rollup entries different: {bu_different_count}\")\n",
    "print(f\"Number of Region Rollup entries the same: {region_same_count}\")\n",
    "print(f\"Number of Region Rollup entries different: {region_different_count}\")"
   ]
  },
  {
   "cell_type": "code",
   "execution_count": null,
   "metadata": {},
   "outputs": [],
   "source": [
    "matching_entries.to_csv('org_unit_diferent_23-24.csv', encoding= 'UTF-8-SIG', index=False)"
   ]
  }
 ],
 "metadata": {
  "language_info": {
   "name": "python"
  }
 },
 "nbformat": 4,
 "nbformat_minor": 2
}
