{
 "cells": [
  {
   "cell_type": "markdown",
   "metadata": {},
   "source": [
    "<center><h1 style=\"color: #555555;\">Experience Script Documentation</h1></center>\n",
    "\n",
    "<div align=\"center\">\n",
    "    <table style=\"width: 80%; border-collapse: collapse;\">\n",
    "        <tr>\n",
    "            <th style=\"background-color: #6AAFE6; color: #ffffff; padding: 10px;\">Context</th>\n",
    "            <th style=\"background-color: #6AAFE6; color: #ffffff; padding: 10px;\">Approach</th>\n",
    "            <th style=\"background-color: #6AAFE6; color: #ffffff; padding: 10px;\">Value Created</th>\n",
    "        </tr>\n",
    "        <tr>\n",
    "            <td style=\"background-color: #E8F4FC; padding: 10px;\">Provide the background and purpose of the script.</td>\n",
    "            <td style=\"background-color: #E8F4FC; padding: 10px;\">Describe the libraries, methods, and thought process.</td>\n",
    "            <td style=\"background-color: #E8F4FC; padding: 10px;\">Highlight the outcomes, improvements, and conclusions.</td>\n",
    "        </tr>\n",
    "    </table>\n",
    "</div>\n",
    "</html>"
   ]
  },
  {
   "cell_type": "markdown",
   "metadata": {},
   "source": [
    "## STEP 1: STANDARD NORMALIZE"
   ]
  },
  {
   "cell_type": "code",
   "execution_count": 1,
   "metadata": {},
   "outputs": [
    {
     "name": "stderr",
     "output_type": "stream",
     "text": [
      "D:\\Users\\diana.fernandez\\AppData\\Local\\Temp\\1\\ipykernel_8960\\9107979.py:52: DtypeWarning: Columns (2,7,15,21,23,25,32,37,38,39,41,48,50,52,57,59,62,63,68,75,80,89) have mixed types. Specify dtype option on import or set low_memory=False.\n",
      "  df = pd.read_csv('D:\\\\Users\\\\diana.fernandez\\\\Downloads\\\\TBC_OUTPUT_FY24_APR-MAY v.2.csv',\n"
     ]
    },
    {
     "name": "stdout",
     "output_type": "stream",
     "text": [
      "DataFrame shape:(66954, 90)\n"
     ]
    },
    {
     "data": {
      "text/plain": [
       "SOURCE_DATA\n",
       "NONPO INVOICE    47092\n",
       "Concur           10892\n",
       "GNFR INVOICE      8970\n",
       "Name: count, dtype: int64"
      ]
     },
     "execution_count": 1,
     "metadata": {},
     "output_type": "execute_result"
    }
   ],
   "source": [
    "import pandas as pd\n",
    "\n",
    "dtype = {\n",
    "    'ACCOUNT_CDE': 'str',  \n",
    "    'ASSETID':'str',\n",
    "    'BUSINESS_UNIT':'str',\n",
    "    'BUSINESS_UNIT_CDE': 'str', \n",
    "    'BUYER_ID': 'str', \n",
    "    'COMPANY_CDE': 'str',\n",
    "    'COST_CENTER': 'str', \n",
    "    'COST_CENTER_DESC': 'str',\n",
    "    'EXPENSE_REPORT_NAME': 'str',\n",
    "    'FILE_NAME': 'str',\n",
    "    'FISCAL_MONTH': 'str',\n",
    "    'FISCAL_QUARTER': 'str',\n",
    "    'FISCAL_YEAR': 'str',\n",
    "    'INVOICE_COMMENT': 'str',\n",
    "    'INVOICE_PMT_TERMS': 'str',\n",
    "    'INVOICE_LINE_DESC': 'str',\n",
    "    'INVOICE_LINE_NBR': 'str', \n",
    "    'INVOICE_LINE_QTY': 'str', \n",
    "    'INVOICE_LINE_UNIT_PRICE': 'str', \n",
    "    'INVOICE_NBR': 'str', \n",
    "    'INVOICE_PMT_TERMS_CDE': 'str', \n",
    "    'LEGAL_ENTITY_CDE': 'str',\n",
    "    'LOCATION': 'str', \n",
    "    'LOCATION_ID': 'str',\n",
    "    'PAYMENT_TYPE': 'str',\n",
    "    'PO_LINE_DESC': 'str',\n",
    "    'PO_LINE_ITEM_ID': 'str', \n",
    "    'PO_LINE_NBR': 'str', \n",
    "    'PO_LINE_QTY': 'str', \n",
    "    'PO_NBR': 'str', \n",
    "    'PROJECT_NAME':'str',\n",
    "    'PROJECT_DESCRIPTION': 'str',\n",
    "    'SUPPLIER_ADDRESS_1': 'str',\n",
    "    'SUPPLIER_GRP': 'str',\n",
    "    'SUPPLIER_ERP': 'str',\n",
    "    'SUPPLIER_NBR': 'str',\n",
    "    'SUPPLIER_NORMALIZED': 'str',\n",
    "    'SUPPLIER_PMT_TERM_CDE': 'str',\n",
    "    'SUPPLIER_STATE': 'str',\n",
    "    'SUPPLIER_TAXID': 'str',\n",
    "    'SUPPLIER_ZIP_POSTAL_CDE':'str',\n",
    "    'DAYS_ATF_PO': 'str', \n",
    "    'INVOICE_LINE_AMOUNT': 'float',\n",
    "    'EXCHANGE_RATE': 'float',\n",
    "    'TOTAL_SPEND_USD': 'float',\n",
    "    'TOTAL_SPEND':'float',\n",
    "}\n",
    "# Read the LQ export \n",
    "df = pd.read_csv('D:\\\\Users\\\\diana.fernandez\\\\Downloads\\\\TBC_OUTPUT_FY24_APR-MAY v.2.csv', \n",
    "encoding='UTF-8-SIG', \n",
    "encoding_errors='ignore', dtype=dtype)\n",
    "\n",
    "print(f\"DataFrame shape:{df.shape}\")\n",
    "\n",
    "df['SOURCE_DATA'].value_counts()"
   ]
  },
  {
   "cell_type": "code",
   "execution_count": 2,
   "metadata": {},
   "outputs": [],
   "source": [
    "import re\n",
    "\n",
    "def normalize_supplier_name(row):\n",
    "    word = row['SUPPLIER_ERP']\n",
    "\n",
    "    # Check if the input is not a string\n",
    "    if not isinstance(word, str):\n",
    "        return word  # Return as is or modify this as needed\n",
    "\n",
    "    # Strip '#' and anything following it from right to left\n",
    "    word =re.sub(r'#.*$', '', word)\n",
    "\n",
    "    # strip trailing numbers right to left \n",
    "    word =re.sub(r'\\d+$', '', word).strip()\n",
    "    \n",
    "    # Remove trailing whitespaces\n",
    "    word = word.rstrip()\n",
    "\n",
    "    # For concur (credit card) data only`\n",
    "    payment_methods = ['TCB*','NIC*  ','CF* ','IN *','GLF*','WPY*','ZSK*','TLF*','TN*','PY *','PLACPAY*','L2G*','IC* ', 'B2P*', 'CCI*', \n",
    "                       'CEP*', 'CKE*', 'EIG*', 'FSP*', 'HAD*', 'PAR*', 'PAYPAL *', 'PMT*', 'PP*', 'SLICE*', 'SQ *', 'TST*',\n",
    "                       '4TE*', 'UEP*', 'ORACL*']\n",
    "    \n",
    "    # Remove listed payment methods from supplier name\n",
    "    for method in payment_methods:\n",
    "        if word.startswith(method):\n",
    "            word = word[len(method):].strip('*').strip()\n",
    "    \n",
    "    word = word.replace('$', '').replace('%', '').replace('^', '').replace('#', '').replace('(', '').replace(')', '')\n",
    "    word = word.replace('[', '').replace(']', '').replace(';', '').replace(':', '').replace('\"', '').replace(\"'\", \"\")\n",
    "    word = word.replace('\"', '').replace(',', '').replace('’', '').replace('-', ' ').replace('/', ' ').replace('°', '')\n",
    "\n",
    "    to_keep = ['.COM', '.com', '.ORG', '.org', '.NET', '.net', 'WWW.', 'www.']\n",
    "    if any([keep in word for keep in to_keep]):\n",
    "        return word\n",
    "    else:\n",
    "        word = word.replace('.', '')\n",
    "        return word.upper()"
   ]
  },
  {
   "cell_type": "code",
   "execution_count": 3,
   "metadata": {},
   "outputs": [
    {
     "name": "stdout",
     "output_type": "stream",
     "text": [
      "Distinct values before normalization: 6235\n",
      "Distinct values after normalization: 4236\n"
     ]
    }
   ],
   "source": [
    "# Apply the normalization function to create the SUPPLIER_NORMALIZED column\n",
    "df['SUPPLIER_NORMALIZED'] = df.apply(normalize_supplier_name, axis=1)\n",
    "\n",
    "# Print the distinct count of supplier erp and normalized to test re results of the normalization function\n",
    "print(f\"Distinct values before normalization: {df['SUPPLIER_ERP'].nunique()}\")\n",
    "print(f\"Distinct values after normalization: {df['SUPPLIER_NORMALIZED'].nunique()}\")"
   ]
  },
  {
   "cell_type": "markdown",
   "metadata": {},
   "source": [
    "## STEP 2: FINAL EXPORT"
   ]
  },
  {
   "cell_type": "code",
   "execution_count": 4,
   "metadata": {},
   "outputs": [],
   "source": [
    "df.to_csv('D:\\\\Users\\\\diana.fernandez\\\\Downloads\\\\TBC_OUTPUT_FY24_APR-MAY v.3.csv', encoding='UTF-8-SIG', index=False)"
   ]
  }
 ],
 "metadata": {
  "kernelspec": {
   "display_name": "Python 3",
   "language": "python",
   "name": "python3"
  },
  "language_info": {
   "codemirror_mode": {
    "name": "ipython",
    "version": 3
   },
   "file_extension": ".py",
   "mimetype": "text/x-python",
   "name": "python",
   "nbconvert_exporter": "python",
   "pygments_lexer": "ipython3",
   "version": "3.12.4"
  }
 },
 "nbformat": 4,
 "nbformat_minor": 2
}
