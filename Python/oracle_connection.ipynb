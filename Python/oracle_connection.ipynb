{
 "cells": [
  {
   "cell_type": "code",
   "execution_count": 5,
   "metadata": {},
   "outputs": [],
   "source": [
    "import oracledb\n",
    "import configparser\n",
    "\n",
    "# Load the config file\n",
    "config = configparser.ConfigParser()\n",
    "config.read('config.ini')\n",
    "\n",
    "# Extract the credentials from the config file\n",
    "username = config['oracle_db']['username']\n",
    "password = config['oracle_db']['password']\n",
    "dsn = config['oracle_db']['dsn']"
   ]
  },
  {
   "cell_type": "code",
   "execution_count": 6,
   "metadata": {},
   "outputs": [
    {
     "ename": "NameError",
     "evalue": "name 'cursor' is not defined",
     "output_type": "error",
     "traceback": [
      "\u001b[0;31m---------------------------------------------------------------------------\u001b[0m",
      "\u001b[0;31mOperationalError\u001b[0m                          Traceback (most recent call last)",
      "File \u001b[0;32msrc/oracledb/impl/thin/connection.pyx:322\u001b[0m, in \u001b[0;36moracledb.thin_impl.ThinConnImpl._connect_with_address\u001b[0;34m()\u001b[0m\n",
      "File \u001b[0;32msrc/oracledb/impl/thin/protocol.pyx:245\u001b[0m, in \u001b[0;36moracledb.thin_impl.Protocol._connect_phase_one\u001b[0;34m()\u001b[0m\n",
      "File \u001b[0;32msrc/oracledb/impl/thin/protocol.pyx:409\u001b[0m, in \u001b[0;36moracledb.thin_impl.Protocol._process_message\u001b[0;34m()\u001b[0m\n",
      "File \u001b[0;32msrc/oracledb/impl/thin/protocol.pyx:388\u001b[0m, in \u001b[0;36moracledb.thin_impl.Protocol._process_message\u001b[0;34m()\u001b[0m\n",
      "File \u001b[0;32msrc/oracledb/impl/thin/messages.pyx:1914\u001b[0m, in \u001b[0;36moracledb.thin_impl.ConnectMessage.process\u001b[0;34m()\u001b[0m\n",
      "File \u001b[0;32m~/Documents/scripts/.venv/lib/python3.12/site-packages/oracledb/errors.py:195\u001b[0m, in \u001b[0;36m_raise_err\u001b[0;34m(error_num, context_error_message, cause, **args)\u001b[0m\n\u001b[1;32m    194\u001b[0m error \u001b[38;5;241m=\u001b[39m _create_err(error_num, context_error_message, cause, \u001b[38;5;241m*\u001b[39m\u001b[38;5;241m*\u001b[39margs)\n\u001b[0;32m--> 195\u001b[0m \u001b[38;5;28;01mraise\u001b[39;00m error\u001b[38;5;241m.\u001b[39mexc_type(error) \u001b[38;5;28;01mfrom\u001b[39;00m \u001b[38;5;21;01mcause\u001b[39;00m\n",
      "\u001b[0;31mOperationalError\u001b[0m: DPY-6000: Listener refused connection. (Similar to ORA-12506)",
      "\nThe above exception was the direct cause of the following exception:\n",
      "\u001b[0;31mOperationalError\u001b[0m                          Traceback (most recent call last)",
      "Cell \u001b[0;32mIn[6], line 3\u001b[0m\n\u001b[1;32m      1\u001b[0m \u001b[38;5;28;01mtry\u001b[39;00m:\n\u001b[1;32m      2\u001b[0m     \u001b[38;5;66;03m# Establish connection (no client needed for basic functionality)\u001b[39;00m\n\u001b[0;32m----> 3\u001b[0m     connection \u001b[38;5;241m=\u001b[39m \u001b[43moracledb\u001b[49m\u001b[38;5;241;43m.\u001b[39;49m\u001b[43mconnect\u001b[49m\u001b[43m(\u001b[49m\u001b[43muser\u001b[49m\u001b[38;5;241;43m=\u001b[39;49m\u001b[43musername\u001b[49m\u001b[43m,\u001b[49m\u001b[43m \u001b[49m\u001b[43mpassword\u001b[49m\u001b[38;5;241;43m=\u001b[39;49m\u001b[43mpassword\u001b[49m\u001b[43m,\u001b[49m\u001b[43m \u001b[49m\u001b[43mdsn\u001b[49m\u001b[38;5;241;43m=\u001b[39;49m\u001b[43mdsn\u001b[49m\u001b[43m)\u001b[49m\n\u001b[1;32m      4\u001b[0m     \u001b[38;5;28mprint\u001b[39m(\u001b[38;5;124m\"\u001b[39m\u001b[38;5;124mConnection successful!\u001b[39m\u001b[38;5;124m\"\u001b[39m)\n",
      "File \u001b[0;32m~/Documents/scripts/.venv/lib/python3.12/site-packages/oracledb/connection.py:1169\u001b[0m, in \u001b[0;36m_connection_factory.<locals>.connect\u001b[0;34m(dsn, pool, conn_class, params, **kwargs)\u001b[0m\n\u001b[1;32m   1168\u001b[0m     \u001b[38;5;28;01mraise\u001b[39;00m \u001b[38;5;167;01mTypeError\u001b[39;00m(message)\n\u001b[0;32m-> 1169\u001b[0m \u001b[38;5;28;01mreturn\u001b[39;00m \u001b[43mconn_class\u001b[49m\u001b[43m(\u001b[49m\u001b[43mdsn\u001b[49m\u001b[38;5;241;43m=\u001b[39;49m\u001b[43mdsn\u001b[49m\u001b[43m,\u001b[49m\u001b[43m \u001b[49m\u001b[43mpool\u001b[49m\u001b[38;5;241;43m=\u001b[39;49m\u001b[43mpool\u001b[49m\u001b[43m,\u001b[49m\u001b[43m \u001b[49m\u001b[43mparams\u001b[49m\u001b[38;5;241;43m=\u001b[39;49m\u001b[43mparams\u001b[49m\u001b[43m,\u001b[49m\u001b[43m \u001b[49m\u001b[38;5;241;43m*\u001b[39;49m\u001b[38;5;241;43m*\u001b[39;49m\u001b[43mkwargs\u001b[49m\u001b[43m)\u001b[49m\n",
      "File \u001b[0;32m~/Documents/scripts/.venv/lib/python3.12/site-packages/oracledb/connection.py:551\u001b[0m, in \u001b[0;36mConnection.__init__\u001b[0;34m(self, dsn, pool, params, **kwargs)\u001b[0m\n\u001b[1;32m    550\u001b[0m         impl \u001b[38;5;241m=\u001b[39m thin_impl\u001b[38;5;241m.\u001b[39mThinConnImpl(dsn, params_impl)\n\u001b[0;32m--> 551\u001b[0m         \u001b[43mimpl\u001b[49m\u001b[38;5;241;43m.\u001b[39;49m\u001b[43mconnect\u001b[49m\u001b[43m(\u001b[49m\u001b[43mparams_impl\u001b[49m\u001b[43m)\u001b[49m\n\u001b[1;32m    552\u001b[0m \u001b[38;5;28;01melse\u001b[39;00m:\n",
      "File \u001b[0;32msrc/oracledb/impl/thin/connection.pyx:424\u001b[0m, in \u001b[0;36moracledb.thin_impl.ThinConnImpl.connect\u001b[0;34m()\u001b[0m\n",
      "File \u001b[0;32msrc/oracledb/impl/thin/connection.pyx:420\u001b[0m, in \u001b[0;36moracledb.thin_impl.ThinConnImpl.connect\u001b[0;34m()\u001b[0m\n",
      "File \u001b[0;32msrc/oracledb/impl/thin/connection.pyx:380\u001b[0m, in \u001b[0;36moracledb.thin_impl.ThinConnImpl._connect_with_params\u001b[0;34m()\u001b[0m\n",
      "File \u001b[0;32msrc/oracledb/impl/thin/connection.pyx:361\u001b[0m, in \u001b[0;36moracledb.thin_impl.ThinConnImpl._connect_with_description\u001b[0;34m()\u001b[0m\n",
      "File \u001b[0;32msrc/oracledb/impl/thin/connection.pyx:327\u001b[0m, in \u001b[0;36moracledb.thin_impl.ThinConnImpl._connect_with_address\u001b[0;34m()\u001b[0m\n",
      "File \u001b[0;32m~/Documents/scripts/.venv/lib/python3.12/site-packages/oracledb/errors.py:195\u001b[0m, in \u001b[0;36m_raise_err\u001b[0;34m(error_num, context_error_message, cause, **args)\u001b[0m\n\u001b[1;32m    194\u001b[0m error \u001b[38;5;241m=\u001b[39m _create_err(error_num, context_error_message, cause, \u001b[38;5;241m*\u001b[39m\u001b[38;5;241m*\u001b[39margs)\n\u001b[0;32m--> 195\u001b[0m \u001b[38;5;28;01mraise\u001b[39;00m error\u001b[38;5;241m.\u001b[39mexc_type(error) \u001b[38;5;28;01mfrom\u001b[39;00m \u001b[38;5;21;01mcause\u001b[39;00m\n",
      "\u001b[0;31mOperationalError\u001b[0m: DPY-6005: cannot connect to database (CONNECTION_ID=SbnpGPSh/km10ghpSrJZPg==).\nDPY-6000: Listener refused connection. (Similar to ORA-12506)",
      "\nDuring handling of the above exception, another exception occurred:\n",
      "\u001b[0;31mNameError\u001b[0m                                 Traceback (most recent call last)",
      "Cell \u001b[0;32mIn[6], line 14\u001b[0m\n\u001b[1;32m     11\u001b[0m     \u001b[38;5;28mprint\u001b[39m(\u001b[38;5;124m\"\u001b[39m\u001b[38;5;124mQuery result:\u001b[39m\u001b[38;5;124m\"\u001b[39m, result)\n\u001b[1;32m     13\u001b[0m \u001b[38;5;28;01mfinally\u001b[39;00m:\n\u001b[0;32m---> 14\u001b[0m     \u001b[38;5;28;01mif\u001b[39;00m \u001b[43mcursor\u001b[49m:\n\u001b[1;32m     15\u001b[0m         cursor\u001b[38;5;241m.\u001b[39mclose()\n\u001b[1;32m     16\u001b[0m     \u001b[38;5;28;01mif\u001b[39;00m connection:\n",
      "\u001b[0;31mNameError\u001b[0m: name 'cursor' is not defined"
     ]
    }
   ],
   "source": [
    "try:\n",
    "    # Establish connection (no client needed for basic functionality)\n",
    "    connection = oracledb.connect(user=username, password=password, dsn=dsn)\n",
    "    print(\"Connection successful!\")\n",
    "    print(\"Database version:\", connection.version)\n",
    "\n",
    "    # Test a simple query\n",
    "    cursor = connection.cursor()\n",
    "    cursor.execute(\"SELECT * FROM dual\")\n",
    "    result = cursor.fetchone()\n",
    "    print(\"Query result:\", result)\n",
    "\n",
    "finally:\n",
    "    if cursor:\n",
    "        cursor.close()\n",
    "    if connection:\n",
    "        connection.close()"
   ]
  }
 ],
 "metadata": {
  "kernelspec": {
   "display_name": ".venv",
   "language": "python",
   "name": "python3"
  },
  "language_info": {
   "codemirror_mode": {
    "name": "ipython",
    "version": 3
   },
   "file_extension": ".py",
   "mimetype": "text/x-python",
   "name": "python",
   "nbconvert_exporter": "python",
   "pygments_lexer": "ipython3",
   "version": "3.12.5"
  }
 },
 "nbformat": 4,
 "nbformat_minor": 2
}
