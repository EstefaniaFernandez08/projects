{
 "cells": [
  {
   "cell_type": "markdown",
   "id": "3ce87c9e",
   "metadata": {},
   "source": [
    "### 0.1 READ THE DATA SOURCE"
   ]
  },
  {
   "cell_type": "code",
   "execution_count": 7,
   "id": "d051729a",
   "metadata": {},
   "outputs": [],
   "source": [
    "import configparser\n",
    "\n",
    "# initiate the configparser\n",
    "config = configparser.ConfigParser()\n",
    "\n",
    "# read the config ini file\n",
    "config.read('config.ini')\n",
    "\n",
    "# read the csv file path\n",
    "csv_file_path = config['path']['house_market']"
   ]
  },
  {
   "cell_type": "markdown",
   "id": "c33d4f24",
   "metadata": {},
   "source": [
    "### 0.2 DEFINE THE HTML DISPLAY"
   ]
  },
  {
   "cell_type": "code",
   "execution_count": 6,
   "id": "461e2617",
   "metadata": {},
   "outputs": [
    {
     "data": {
      "text/html": [
       "<style> \n",
       ".output {\n",
       "    max-height: 500px; /* Adjiust as needed*/\n",
       "    overflow: scroll /* Allows scrolling*/\n",
       "}\n",
       "<style>"
      ],
      "text/plain": [
       "<IPython.core.display.HTML object>"
      ]
     },
     "metadata": {},
     "output_type": "display_data"
    }
   ],
   "source": [
    "from IPython.display import display, HTML\n",
    "import pandas as pd\n",
    "\n",
    "# Define the css that will make the table scrollable\n",
    "css = \"\"\" \n",
    ".output {\n",
    "    max-height: 500px; /* Adjiust as needed*/\n",
    "    overflow: scroll /* Allows scrolling*/\n",
    "}\n",
    "\"\"\"\n",
    "\n",
    "# Apply the css for the scrollable output\n",
    "display(HTML('<style>{}<style>'.format(css)))\n",
    "\n",
    "# Configure pandas display options for better visuals\n",
    "pd.set_option('display.max_rows', None) # Display all rows, adjust as needed\n",
    "pd.set_option('display.max_columns', None) # Display all columns, adjust as needed\n",
    "pd.set_option('display.max_colwidth', 90) # Set max column width for long text\n",
    "pd.options.display.float_format = '{:,.2f}'.format # Format floating-point numbers"
   ]
  },
  {
   "cell_type": "code",
   "execution_count": null,
   "id": "48879608",
   "metadata": {},
   "outputs": [],
   "source": []
  }
 ],
 "metadata": {
  "kernelspec": {
   "display_name": "venv",
   "language": "python",
   "name": "python3"
  },
  "language_info": {
   "codemirror_mode": {
    "name": "ipython",
    "version": 3
   },
   "file_extension": ".py",
   "mimetype": "text/x-python",
   "name": "python",
   "nbconvert_exporter": "python",
   "pygments_lexer": "ipython3",
   "version": "3.13.0"
  }
 },
 "nbformat": 4,
 "nbformat_minor": 5
}
