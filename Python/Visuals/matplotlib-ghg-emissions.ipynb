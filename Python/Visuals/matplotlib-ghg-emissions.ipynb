{
 "cells": [
  {
   "cell_type": "code",
   "execution_count": null,
   "metadata": {},
   "outputs": [
    {
     "ename": "",
     "evalue": "",
     "output_type": "error",
     "traceback": [
      "\u001b[1;31mRunning cells with 'Python 3.13.0' requires the ipykernel package.\n",
      "\u001b[1;31mRun the following command to install 'ipykernel' into the Python environment. \n",
      "\u001b[1;31mCommand: '/opt/homebrew/opt/python@3.13/bin/python3 -m pip install ipykernel -U --user --force-reinstall'"
     ]
    }
   ],
   "source": [
    "from IPython.display import display, HTML\n",
    "import pandas as pd\n",
    "\n",
    "# Define the CSS that will make the table scrollable\n",
    "css = \"\"\"\n",
    ".output {\n",
    "    max-height: 500px; /* Adjust as needed */\n",
    "    overflow: scroll;  /* Allows scrolling */\n",
    "}\n",
    "\"\"\"\n",
    "\n",
    "# Apply the CSS for scrollable output\n",
    "display(HTML('<style>{}</style>'.format(css)))\n",
    "\n",
    "# Configure pandas display options for better visuals\n",
    "pd.set_option('display.max_rows', None)  # Display all rows, adjust as needed\n",
    "pd.set_option('display.max_columns', None)  # Display all columns, adjust as needed\n",
    "pd.set_option('display.max_colwidth', 90)  # Set max column width for long text\n",
    "pd.options.display.float_format = '{:,.2f}'.format  # Format floating-point numbers"
   ]
  },
  {
   "cell_type": "code",
   "execution_count": null,
   "metadata": {},
   "outputs": [],
   "source": [
    "import pandas as pd\n",
    "import configparser\n",
    "\n",
    "# initiate the configparser\n",
    "config = configparser.ConfigParser()\n",
    "\n",
    "# Read the config.ini file\n",
    "config.read('config.ini')\n",
    "\n",
    "# access the file path\n",
    "csv_file_path = config['path']['ghg_emissions']"
   ]
  },
  {
   "cell_type": "code",
   "execution_count": null,
   "metadata": {},
   "outputs": [],
   "source": [
    "# load the dataset\n",
    "ghg_emissions = pd.read_csv(csv_file_path, encoding='UTF-8-SIG')\n",
    "print(f\"GHG Emissions data shape{ghg_emissions.shape}\")\n",
    "\n",
    "# display the entire dataframe in a scrollable table\n",
    "display(HTML(f\"<div><b>Complete DataSet:</b></div>\"))\n",
    "display(HTML(ghg_emissions.to_html(index=False)))"
   ]
  }
 ],
 "metadata": {
  "kernelspec": {
   "display_name": "Python 3",
   "language": "python",
   "name": "python3"
  },
  "language_info": {
   "name": "python",
   "version": "3.13.0"
  }
 },
 "nbformat": 4,
 "nbformat_minor": 2
}
