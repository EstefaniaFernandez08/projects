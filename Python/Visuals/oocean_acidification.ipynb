{
 "cells": [
  {
   "cell_type": "code",
   "execution_count": null,
   "metadata": {
    "vscode": {
     "languageId": "plaintext"
    }
   },
   "outputs": [],
   "source": [
    "from Ipython.display import display, HTML\n",
    "import pandas as pd\n",
    "\n",
    "# define the CSS that will make the table scrollable\n",
    "CSS = \"\"\"\n",
    ".output {\n",
    "    max-height: 500px;\n",
    "    overflow: scroll;\n",
    "}\n",
    "\"\"\"\n",
    "\n",
    "# Apply the CSS for scrollable output\n",
    "display(HTML(''))"
   ]
  }
 ],
 "metadata": {
  "language_info": {
   "name": "python"
  }
 },
 "nbformat": 4,
 "nbformat_minor": 2
}
